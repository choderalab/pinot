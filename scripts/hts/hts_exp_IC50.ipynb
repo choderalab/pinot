{
 "cells": [
  {
   "cell_type": "code",
   "execution_count": 1,
   "metadata": {},
   "outputs": [
    {
     "name": "stderr",
     "output_type": "stream",
     "text": [
      "Using backend: pytorch\n"
     ]
    }
   ],
   "source": [
    "%load_ext autoreload\n",
    "%autoreload 2\n",
    "\n",
    "import pinot\n",
    "import torch\n",
    "import os\n",
    "import logging\n",
    "import time\n",
    "import pickle\n",
    "import gpytorch\n",
    "import numpy as np\n",
    "import sklearn\n",
    "import matplotlib.pyplot as plt"
   ]
  },
  {
   "cell_type": "markdown",
   "metadata": {},
   "source": [
    "# Load data"
   ]
  },
  {
   "cell_type": "code",
   "execution_count": 4,
   "metadata": {},
   "outputs": [
    {
     "data": {
      "text/plain": [
       "<pinot.data.datasets.Dataset at 0x7fdefafb0a50>"
      ]
     },
     "execution_count": 4,
     "metadata": {},
     "output_type": "execute_result"
    }
   ],
   "source": [
    "data = pinot.data.moonshot_pic50()\n",
    "all_data = [(g, y) for g, y in data]\n",
    "all_ys = np.array([y for (g, y) in all_data])"
   ]
  },
  {
   "cell_type": "code",
   "execution_count": 13,
   "metadata": {},
   "outputs": [],
   "source": [
    "all_data = [(g, y) for g, y in data]\n",
    "train_data, test_data = pinot.data.utils.split(all_data, [0.8, 0.2])"
   ]
  },
  {
   "cell_type": "code",
   "execution_count": 9,
   "metadata": {},
   "outputs": [],
   "source": [
    "all_ys = np.array([y for (g, y) in all_data])"
   ]
  },
  {
   "cell_type": "code",
   "execution_count": 12,
   "metadata": {},
   "outputs": [
    {
     "data": {
      "text/plain": [
       "Text(0, 0.5, 'Number of data points')"
      ]
     },
     "execution_count": 12,
     "metadata": {},
     "output_type": "execute_result"
    },
    {
     "data": {
      "image/png": "[encoded data removed]",
      "text/plain": [
       "<Figure size 720x720 with 1 Axes>"
      ]
     },
     "metadata": {
      "needs_background": "light"
     },
     "output_type": "display_data"
    }
   ],
   "source": [
    "plt.figure(figsize=(10,10))\n",
    "plt.hist(all_ys, 50)\n",
    "plt.xlabel(\"y\")\n",
    "plt.ylabel(\"Number of data points\")"
   ]
  },
  {
   "cell_type": "code",
   "execution_count": null,
   "metadata": {},
   "outputs": [],
   "source": []
  },
  {
   "cell_type": "code",
   "execution_count": null,
   "metadata": {},
   "outputs": [],
   "source": []
  },
  {
   "cell_type": "code",
   "execution_count": null,
   "metadata": {},
   "outputs": [],
   "source": []
  },
  {
   "cell_type": "code",
   "execution_count": null,
   "metadata": {},
   "outputs": [],
   "source": []
  },
  {
   "cell_type": "markdown",
   "metadata": {},
   "source": [
    "# Now do training"
   ]
  },
  {
   "cell_type": "code",
   "execution_count": 17,
   "metadata": {},
   "outputs": [],
   "source": [
    "def rmse(y, yhat):\n",
    "    return torch.sqrt(torch.mean((y.flatten()-yhat.flatten())**2))\n",
    "\n",
    "def run_vgp_pytorch_experiment(num_inducing, ds_tr_batched, ds_te_batched, kernel_name=None, kernel_params=None, mean_name=\"LinearMean\", beta=1.0, device=\"cpu\", n_epochs=50):\n",
    "    dev = torch.device(device)\n",
    "    net_variational_gp = pinot.Net(\n",
    "        pinot.representation.Sequential(\n",
    "            pinot.representation.dgl_legacy.gn(kwargs={\"allow_zero_in_degree\":True}),\n",
    "                [64, 'relu', 64, 'relu', 64, 'relu']),\n",
    "        output_regressor_class=pinot.regressors.VariationalGP,\n",
    "        n_inducing_points=num_inducing,\n",
    "        beta = beta,\n",
    "        covar = getattr(gpytorch.kernels, kernel_name)(**kernel_params) if kernel_name is not None else None\n",
    "    ).to(dev)\n",
    "    \n",
    "    lr = 1e-4\n",
    "    optimizer = torch.optim.Adam([\n",
    "        {'params': net_variational_gp.representation.parameters(), 'weight_decay': 1e-4},\n",
    "        {'params': net_variational_gp.output_regressor.parameters(), 'lr': lr*0.1}\n",
    "    ], lr=lr)\n",
    "    \n",
    "    start = time.time()\n",
    "    for n in range(n_epochs):\n",
    "        total_loss = 0.\n",
    "        for (g, y) in ds_tr_batched:\n",
    "            optimizer.zero_grad()\n",
    "            loss = net_variational_gp.loss(g.to(dev), y.flatten().to(dev))\n",
    "            loss.backward()\n",
    "            optimizer.step()\n",
    "            total_loss += loss.item()\n",
    "            \n",
    "    squared_error_tr = 0.\n",
    "    n_train = 0\n",
    "    squared_error_te = 0.\n",
    "    n_test = 0\n",
    "    \n",
    "    for (g, y) in ds_tr_batched:\n",
    "        n_train += len(y)\n",
    "        yhat = net_variational_gp.condition(g.to(dev)).mean.cpu()\n",
    "        squared_error_tr += torch.sum((y.flatten()-yhat.flatten())**2)\n",
    "        \n",
    "    \n",
    "    for (g, y) in ds_te_batched:\n",
    "        n_test += len(y)\n",
    "        yhat = net_variational_gp.condition(g.to(dev)).mean.cpu()\n",
    "        squared_error_te += torch.sum((y.flatten()-yhat.flatten())**2)\n",
    "    \n",
    "    train_rmse = torch.sqrt(squared_error_tr/n_train)\n",
    "    test_rmse = torch.sqrt(squared_error_te/n_test)\n",
    "    end = time.time()\n",
    "    \n",
    "    print(f\"VGP (Pytorch) Train rmse = {train_rmse}, test rmse = {test_rmse} for {kernel_name} kernel, beta = {beta}, num_inducing_points = {num_inducing}, mean = {mean_name}, time = {end-start}\")\n",
    "    return net_variational_gp\n",
    "    \n",
    "    \n",
    "def run_vgp_experiment(num_inducing, ds_tr_batched, ds_te_batched, kernel_name=None, kernel_params=None, mean_name=\"LinearMean\", beta=1.0, device=\"cpu\", n_epochs=50):\n",
    "    dev = torch.device(device)\n",
    "    net_variational_gp = pinot.Net(\n",
    "        pinot.representation.Sequential(\n",
    "            pinot.representation.dgl_legacy.gn(kwargs={\"allow_zero_in_degree\":True}),\n",
    "                [64, 'relu', 64, 'relu', 64, 'relu']),\n",
    "        output_regressor_class=pinot.regressors.VariationalGaussianProcessRegressor,\n",
    "        n_inducing_points=num_inducing\n",
    "    ).to(dev)\n",
    "    \n",
    "    lr = 1e-4\n",
    "    optimizer = torch.optim.Adam([\n",
    "        {'params': net_variational_gp.representation.parameters(), 'weight_decay': 1e-4},\n",
    "        {'params': net_variational_gp.output_regressor.parameters(), 'lr': lr*0.1}\n",
    "    ], lr=lr)\n",
    "    \n",
    "    start = time.time()\n",
    "    for n in range(n_epochs):\n",
    "        total_loss = 0.\n",
    "        for (g, y) in ds_tr_batched:\n",
    "            optimizer.zero_grad()\n",
    "            loss = net_variational_gp.loss(g.to(dev), y.flatten().to(dev))\n",
    "            loss.backward()\n",
    "            optimizer.step()\n",
    "            total_loss += loss.item()\n",
    "    \n",
    "    squared_error_tr = 0.\n",
    "    n_train = 0\n",
    "    squared_error_te = 0.\n",
    "    n_test = 0\n",
    "    \n",
    "    for (g, y) in ds_tr_batched:\n",
    "        n_train += len(y)\n",
    "        yhat = net_variational_gp.condition(g.to(dev)).mean.cpu()\n",
    "        squared_error_tr += torch.sum((y.flatten()-yhat.flatten())**2)\n",
    "        \n",
    "    \n",
    "    for (g, y) in ds_te_batched:\n",
    "        n_test += len(y)\n",
    "        yhat = net_variational_gp.condition(g.to(dev)).mean.cpu()\n",
    "        squared_error_te += torch.sum((y.flatten()-yhat.flatten())**2)\n",
    "    \n",
    "    train_rmse = torch.sqrt(squared_error_tr/n_train)\n",
    "    test_rmse = torch.sqrt(squared_error_te/n_test)\n",
    "    \n",
    "    end = time.time()\n",
    "    print(f\"VGP Train rmse = {train_rmse}, test rmse = {test_rmse} for {kernel_name} kernel, beta = {beta}, num_inducing_points = {num_inducing}, mean = {mean_name}, time = {end-start}\")\n",
    "    return net_variational_gp\n"
   ]
  },
  {
   "cell_type": "code",
   "execution_count": 16,
   "metadata": {},
   "outputs": [],
   "source": [
    "batch_size = 32\n",
    "ds_tr_batched  = pinot.data.utils.batch(train_data, batch_size)\n",
    "ds_te_batched = pinot.data.utils.batch(test_data, batch_size)\n"
   ]
  },
  {
   "cell_type": "code",
   "execution_count": 25,
   "metadata": {},
   "outputs": [
    {
     "name": "stdout",
     "output_type": "stream",
     "text": [
      "VGP (Pytorch) Train rmse = 1.0664124488830566, test rmse = 1.153848648071289 for RBFKernel kernel, beta = 1.0, num_inducing_points = 400, mean = LinearMean, time = 476.57427167892456\n"
     ]
    }
   ],
   "source": [
    "n_epochs = 500\n",
    "num_inducing = 400\n",
    "vgp_pytorch = run_vgp_pytorch_experiment(num_inducing, ds_tr_batched, ds_te_batched, \"RBFKernel\", {}, device=\"cuda\", n_epochs=n_epochs)"
   ]
  },
  {
   "cell_type": "code",
   "execution_count": 26,
   "metadata": {},
   "outputs": [
    {
     "name": "stdout",
     "output_type": "stream",
     "text": [
      "tensor([5.3533, 3.3177, 3.5358, 4.5628, 4.4440, 3.9767, 4.9748, 2.5144, 2.9575,\n",
      "        4.4615, 1.6951, 5.4024, 3.9388, 4.8422, 5.5997, 5.3198, 3.4552, 5.9828,\n",
      "        3.7343, 6.1566, 5.1174, 4.4126, 3.8361, 4.6145, 4.1536, 4.4109, 3.5869,\n",
      "        4.3214, 5.6809, 4.0563, 4.3001, 5.1315], device='cuda:0',\n",
      "       grad_fn=<AddBackward0>)\n"
     ]
    }
   ],
   "source": [
    "\n",
    "print(vgp_pytorch.condition(ds_te_batched[0][0].to(torch.device(\"cuda\"))).mean)"
   ]
  },
  {
   "cell_type": "code",
   "execution_count": 27,
   "metadata": {},
   "outputs": [
    {
     "name": "stdout",
     "output_type": "stream",
     "text": [
      "VGP Train rmse = 4.60581636428833, test rmse = 4.710196018218994 for RBFKernel kernel, beta = 1.0, num_inducing_points = 400, mean = LinearMean, time = 544.0692403316498\n"
     ]
    }
   ],
   "source": [
    "vgp = run_vgp_experiment(num_inducing, ds_tr_batched, ds_te_batched, \"RBFKernel\", {}, device=\"cuda\", n_epochs=n_epochs)"
   ]
  },
  {
   "cell_type": "code",
   "execution_count": 29,
   "metadata": {},
   "outputs": [
    {
     "name": "stdout",
     "output_type": "stream",
     "text": [
      "tensor([0.2629, 0.2409, 0.2089, 0.2554, 0.2005, 0.2241, 0.2607, 0.2145, 0.2509,\n",
      "        0.2358, 0.2050, 0.2383, 0.2345, 0.2409, 0.2099, 0.2166, 0.2343, 0.2530,\n",
      "        0.2284, 0.2520, 0.2482, 0.2545, 0.2071, 0.2551, 0.2112, 0.2171, 0.2443,\n",
      "        0.2450, 0.2491, 0.2398, 0.2196, 0.2667], device='cuda:0',\n",
      "       grad_fn=<SelectBackward>)\n"
     ]
    }
   ],
   "source": [
    "print(vgp.condition(ds_te_batched[0][0].to(torch.device(\"cuda\"))).mean)"
   ]
  },
  {
   "cell_type": "code",
   "execution_count": null,
   "metadata": {},
   "outputs": [],
   "source": []
  }
 ],
 "metadata": {
  "kernelspec": {
   "display_name": "Python 3",
   "language": "python",
   "name": "python3"
  },
  "language_info": {
   "codemirror_mode": {
    "name": "ipython",
    "version": 3
   },
   "file_extension": ".py",
   "mimetype": "text/x-python",
   "name": "python",
   "nbconvert_exporter": "python",
   "pygments_lexer": "ipython3",
   "version": "3.7.9"
  }
 },
 "nbformat": 4,
 "nbformat_minor": 4
}
