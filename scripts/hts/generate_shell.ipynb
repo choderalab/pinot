{
 "cells": [
  {
   "cell_type": "markdown",
   "metadata": {},
   "source": [
    "# General shell script"
   ]
  },
  {
   "cell_type": "code",
   "execution_count": 4,
   "metadata": {},
   "outputs": [],
   "source": [
    "layer_architectures = []\n",
    "for num_units in [32, 64, 128, 256]:\n",
    "    for num_layers in [3,4,5,6]:\n",
    "        for unit in ['GraphConv', 'GATConv', 'GraphSAGE', 'SGConv']:\n",
    "            layer_architecture = ' '.join([f'{unit} {num_units} activation tanh'] * num_layers)\n",
    "            layer_architectures.append(layer_architecture)"
   ]
  },
  {
   "cell_type": "code",
   "execution_count": 10,
   "metadata": {},
   "outputs": [],
   "source": [
    "architecture_str = '\"' + '\" \"'.join(layer_architectures) + '\"'"
   ]
  },
  {
   "cell_type": "code",
   "execution_count": 28,
   "metadata": {},
   "outputs": [],
   "source": [
    "shell_script = f\"\"\"for inducing_pt in 20 50 100 200\n",
    "do\n",
    "    for annealing in 0.0 0.2 1.0\n",
    "    do\n",
    "        for regressor in 'vgp'\n",
    "        do\n",
    "            for architecture in {architecture_str}\n",
    "            do\n",
    "                for sample_frac in 0.1\n",
    "                do\n",
    "                    name=\"${{regressor}}_${{architecture}}_${{sample_frac}}_${{annealing}}_${{inducing_pt}}\"\n",
    "                    bsub -q gpuqueue -n 2 -gpu \"num=1:j_exclusive=yes\" -R \"rusage[mem=6] span[hosts=1]\" -W 24:00 -o \"logs_$name.stdout\" -eo \"logs_$name.stderr\" python3 hts_supervised.py --data mpro_hts --n_epochs 600 --cuda --regressor_type $regressor --architecture $architecture --sample_frac $sample_frac --log \"${{name}}.logs\" --record_interval 50 --n_inducing_points $inducing_pt --annealing $annealing\n",
    "                done\n",
    "            done\n",
    "        done\n",
    "    done\n",
    "done\n",
    "\"\"\""
   ]
  },
  {
   "cell_type": "code",
   "execution_count": 29,
   "metadata": {},
   "outputs": [
    {
     "name": "stdout",
     "output_type": "stream",
     "text": [
      "for inducing_pt in 20 50 100 200\n",
      "do\n",
      "    for annealing in 0.0 0.2 1.0\n",
      "    do\n",
      "        for regressor in 'vgp'\n",
      "        do\n",
      "            for architecture in \"GraphConv 32 activation tanh GraphConv 32 activation tanh GraphConv 32 activation tanh\" \"GATConv 32 activation tanh GATConv 32 activation tanh GATConv 32 activation tanh\" \"GraphSAGE 32 activation tanh GraphSAGE 32 activation tanh GraphSAGE 32 activation tanh\" \"SGConv 32 activation tanh SGConv 32 activation tanh SGConv 32 activation tanh\" \"GraphConv 32 activation tanh GraphConv 32 activation tanh GraphConv 32 activation tanh GraphConv 32 activation tanh\" \"GATConv 32 activation tanh GATConv 32 activation tanh GATConv 32 activation tanh GATConv 32 activation tanh\" \"GraphSAGE 32 activation tanh GraphSAGE 32 activation tanh GraphSAGE 32 activation tanh GraphSAGE 32 activation tanh\" \"SGConv 32 activation tanh SGConv 32 activation tanh SGConv 32 activation tanh SGConv 32 activation tanh\" \"GraphConv 32 activation tanh GraphConv 32 activation tanh GraphConv 32 activation tanh GraphConv 32 activation tanh GraphConv 32 activation tanh\" \"GATConv 32 activation tanh GATConv 32 activation tanh GATConv 32 activation tanh GATConv 32 activation tanh GATConv 32 activation tanh\" \"GraphSAGE 32 activation tanh GraphSAGE 32 activation tanh GraphSAGE 32 activation tanh GraphSAGE 32 activation tanh GraphSAGE 32 activation tanh\" \"SGConv 32 activation tanh SGConv 32 activation tanh SGConv 32 activation tanh SGConv 32 activation tanh SGConv 32 activation tanh\" \"GraphConv 32 activation tanh GraphConv 32 activation tanh GraphConv 32 activation tanh GraphConv 32 activation tanh GraphConv 32 activation tanh GraphConv 32 activation tanh\" \"GATConv 32 activation tanh GATConv 32 activation tanh GATConv 32 activation tanh GATConv 32 activation tanh GATConv 32 activation tanh GATConv 32 activation tanh\" \"GraphSAGE 32 activation tanh GraphSAGE 32 activation tanh GraphSAGE 32 activation tanh GraphSAGE 32 activation tanh GraphSAGE 32 activation tanh GraphSAGE 32 activation tanh\" \"SGConv 32 activation tanh SGConv 32 activation tanh SGConv 32 activation tanh SGConv 32 activation tanh SGConv 32 activation tanh SGConv 32 activation tanh\" \"GraphConv 64 activation tanh GraphConv 64 activation tanh GraphConv 64 activation tanh\" \"GATConv 64 activation tanh GATConv 64 activation tanh GATConv 64 activation tanh\" \"GraphSAGE 64 activation tanh GraphSAGE 64 activation tanh GraphSAGE 64 activation tanh\" \"SGConv 64 activation tanh SGConv 64 activation tanh SGConv 64 activation tanh\" \"GraphConv 64 activation tanh GraphConv 64 activation tanh GraphConv 64 activation tanh GraphConv 64 activation tanh\" \"GATConv 64 activation tanh GATConv 64 activation tanh GATConv 64 activation tanh GATConv 64 activation tanh\" \"GraphSAGE 64 activation tanh GraphSAGE 64 activation tanh GraphSAGE 64 activation tanh GraphSAGE 64 activation tanh\" \"SGConv 64 activation tanh SGConv 64 activation tanh SGConv 64 activation tanh SGConv 64 activation tanh\" \"GraphConv 64 activation tanh GraphConv 64 activation tanh GraphConv 64 activation tanh GraphConv 64 activation tanh GraphConv 64 activation tanh\" \"GATConv 64 activation tanh GATConv 64 activation tanh GATConv 64 activation tanh GATConv 64 activation tanh GATConv 64 activation tanh\" \"GraphSAGE 64 activation tanh GraphSAGE 64 activation tanh GraphSAGE 64 activation tanh GraphSAGE 64 activation tanh GraphSAGE 64 activation tanh\" \"SGConv 64 activation tanh SGConv 64 activation tanh SGConv 64 activation tanh SGConv 64 activation tanh SGConv 64 activation tanh\" \"GraphConv 64 activation tanh GraphConv 64 activation tanh GraphConv 64 activation tanh GraphConv 64 activation tanh GraphConv 64 activation tanh GraphConv 64 activation tanh\" \"GATConv 64 activation tanh GATConv 64 activation tanh GATConv 64 activation tanh GATConv 64 activation tanh GATConv 64 activation tanh GATConv 64 activation tanh\" \"GraphSAGE 64 activation tanh GraphSAGE 64 activation tanh GraphSAGE 64 activation tanh GraphSAGE 64 activation tanh GraphSAGE 64 activation tanh GraphSAGE 64 activation tanh\" \"SGConv 64 activation tanh SGConv 64 activation tanh SGConv 64 activation tanh SGConv 64 activation tanh SGConv 64 activation tanh SGConv 64 activation tanh\" \"GraphConv 128 activation tanh GraphConv 128 activation tanh GraphConv 128 activation tanh\" \"GATConv 128 activation tanh GATConv 128 activation tanh GATConv 128 activation tanh\" \"GraphSAGE 128 activation tanh GraphSAGE 128 activation tanh GraphSAGE 128 activation tanh\" \"SGConv 128 activation tanh SGConv 128 activation tanh SGConv 128 activation tanh\" \"GraphConv 128 activation tanh GraphConv 128 activation tanh GraphConv 128 activation tanh GraphConv 128 activation tanh\" \"GATConv 128 activation tanh GATConv 128 activation tanh GATConv 128 activation tanh GATConv 128 activation tanh\" \"GraphSAGE 128 activation tanh GraphSAGE 128 activation tanh GraphSAGE 128 activation tanh GraphSAGE 128 activation tanh\" \"SGConv 128 activation tanh SGConv 128 activation tanh SGConv 128 activation tanh SGConv 128 activation tanh\" \"GraphConv 128 activation tanh GraphConv 128 activation tanh GraphConv 128 activation tanh GraphConv 128 activation tanh GraphConv 128 activation tanh\" \"GATConv 128 activation tanh GATConv 128 activation tanh GATConv 128 activation tanh GATConv 128 activation tanh GATConv 128 activation tanh\" \"GraphSAGE 128 activation tanh GraphSAGE 128 activation tanh GraphSAGE 128 activation tanh GraphSAGE 128 activation tanh GraphSAGE 128 activation tanh\" \"SGConv 128 activation tanh SGConv 128 activation tanh SGConv 128 activation tanh SGConv 128 activation tanh SGConv 128 activation tanh\" \"GraphConv 128 activation tanh GraphConv 128 activation tanh GraphConv 128 activation tanh GraphConv 128 activation tanh GraphConv 128 activation tanh GraphConv 128 activation tanh\" \"GATConv 128 activation tanh GATConv 128 activation tanh GATConv 128 activation tanh GATConv 128 activation tanh GATConv 128 activation tanh GATConv 128 activation tanh\" \"GraphSAGE 128 activation tanh GraphSAGE 128 activation tanh GraphSAGE 128 activation tanh GraphSAGE 128 activation tanh GraphSAGE 128 activation tanh GraphSAGE 128 activation tanh\" \"SGConv 128 activation tanh SGConv 128 activation tanh SGConv 128 activation tanh SGConv 128 activation tanh SGConv 128 activation tanh SGConv 128 activation tanh\" \"GraphConv 256 activation tanh GraphConv 256 activation tanh GraphConv 256 activation tanh\" \"GATConv 256 activation tanh GATConv 256 activation tanh GATConv 256 activation tanh\" \"GraphSAGE 256 activation tanh GraphSAGE 256 activation tanh GraphSAGE 256 activation tanh\" \"SGConv 256 activation tanh SGConv 256 activation tanh SGConv 256 activation tanh\" \"GraphConv 256 activation tanh GraphConv 256 activation tanh GraphConv 256 activation tanh GraphConv 256 activation tanh\" \"GATConv 256 activation tanh GATConv 256 activation tanh GATConv 256 activation tanh GATConv 256 activation tanh\" \"GraphSAGE 256 activation tanh GraphSAGE 256 activation tanh GraphSAGE 256 activation tanh GraphSAGE 256 activation tanh\" \"SGConv 256 activation tanh SGConv 256 activation tanh SGConv 256 activation tanh SGConv 256 activation tanh\" \"GraphConv 256 activation tanh GraphConv 256 activation tanh GraphConv 256 activation tanh GraphConv 256 activation tanh GraphConv 256 activation tanh\" \"GATConv 256 activation tanh GATConv 256 activation tanh GATConv 256 activation tanh GATConv 256 activation tanh GATConv 256 activation tanh\" \"GraphSAGE 256 activation tanh GraphSAGE 256 activation tanh GraphSAGE 256 activation tanh GraphSAGE 256 activation tanh GraphSAGE 256 activation tanh\" \"SGConv 256 activation tanh SGConv 256 activation tanh SGConv 256 activation tanh SGConv 256 activation tanh SGConv 256 activation tanh\" \"GraphConv 256 activation tanh GraphConv 256 activation tanh GraphConv 256 activation tanh GraphConv 256 activation tanh GraphConv 256 activation tanh GraphConv 256 activation tanh\" \"GATConv 256 activation tanh GATConv 256 activation tanh GATConv 256 activation tanh GATConv 256 activation tanh GATConv 256 activation tanh GATConv 256 activation tanh\" \"GraphSAGE 256 activation tanh GraphSAGE 256 activation tanh GraphSAGE 256 activation tanh GraphSAGE 256 activation tanh GraphSAGE 256 activation tanh GraphSAGE 256 activation tanh\" \"SGConv 256 activation tanh SGConv 256 activation tanh SGConv 256 activation tanh SGConv 256 activation tanh SGConv 256 activation tanh SGConv 256 activation tanh\"\n",
      "            do\n",
      "                for sample_frac in 0.1\n",
      "                do\n",
      "                    name=\"${regressor}_${architecture}_${sample_frac}_${annealing}_${inducing_pt}\"\n",
      "                    bsub -q gpuqueue -n 2 -gpu \"num=1:j_exclusive=yes\" -R \"rusage[mem=6] span[hosts=1]\" -W 24:00 -o \"logs_$name.stdout\" -eo \"logs_$name.stderr\" python3 hts_supervised.py --data mpro_hts --n_epochs 600 --cuda --regressor_type $regressor --architecture $architecture --sample_frac $sample_frac --log \"${name}.logs\" --record_interval 50 --n_inducing_points $inducing_pt --annealing $annealing\n",
      "                done\n",
      "            done\n",
      "        done\n",
      "    done\n",
      "done\n",
      "\n"
     ]
    }
   ],
   "source": [
    "print(shell_script)"
   ]
  }
 ],
 "metadata": {
  "kernelspec": {
   "display_name": "Python 3",
   "language": "python",
   "name": "python3"
  },
  "language_info": {
   "codemirror_mode": {
    "name": "ipython",
    "version": 3
   },
   "file_extension": ".py",
   "mimetype": "text/x-python",
   "name": "python",
   "nbconvert_exporter": "python",
   "pygments_lexer": "ipython3",
   "version": "3.8.3"
  }
 },
 "nbformat": 4,
 "nbformat_minor": 4
}
