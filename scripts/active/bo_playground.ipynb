{
 "cells": [
  {
   "cell_type": "code",
   "execution_count": 2,
   "metadata": {},
   "outputs": [
    {
     "name": "stdout",
     "output_type": "stream",
     "text": [
      "The autoreload extension is already loaded. To reload it, use:\n",
      "  %reload_ext autoreload\n"
     ]
    }
   ],
   "source": [
    "%load_ext autoreload\n",
    "%autoreload 2\n",
    "import pinot\n",
    "import matplotlib\n",
    "from matplotlib import pyplot as plt\n",
    "import torch\n",
    "import numpy as np\n",
    "import os\n",
    "os.environ['KMP_DUPLICATE_LIB_OK']='True'\n"
   ]
  },
  {
   "cell_type": "code",
   "execution_count": 3,
   "metadata": {},
   "outputs": [],
   "source": [
    "def f(x):\n",
    "    \"\"\" Example from\n",
    "    https://pyro.ai/examples/bo.html\n",
    "    \"\"\"\n",
    "    return (6 * x - 2)**2 * torch.sin(12 * x - 4)\n",
    "\n",
    "x = torch.linspace(0, 1)\n",
    "y = f(x)"
   ]
  },
  {
   "cell_type": "code",
   "execution_count": 4,
   "metadata": {},
   "outputs": [],
   "source": [
    "net = pinot.inference.gp.gpr.exact_gpr.ExactGPR(\n",
    "    kernel=pinot.inference.gp.kernels.deep_kernel.DeepKernel(\n",
    "        base_kernel=pinot.inference.gp.kernels.rbf.RBF(),\n",
    "        representation=torch.nn.Sequential(\n",
    "            torch.nn.Linear(1, 50),\n",
    "            torch.nn.Tanh())))"
   ]
  },
  {
   "cell_type": "code",
   "execution_count": 5,
   "metadata": {},
   "outputs": [
    {
     "data": {
      "text/plain": [
       "[<matplotlib.lines.Line2D at 0x139792d90>]"
      ]
     },
     "execution_count": 5,
     "metadata": {},
     "output_type": "execute_result"
    },
    {
     "data": {
      "image/png": "[encoded data removed]",
      "text/plain": [
       "<Figure size 432x288 with 1 Axes>"
      ]
     },
     "metadata": {
      "needs_background": "light"
     },
     "output_type": "display_data"
    }
   ],
   "source": [
    "plt.plot(x, y)"
   ]
  },
  {
   "cell_type": "code",
   "execution_count": 11,
   "metadata": {},
   "outputs": [],
   "source": [
    "bo = pinot.active.experiment.SingleTaskBayesianOptimizationExperiment(\n",
    "        net=net,\n",
    "        data=torch.stack([x, y], dim=1),\n",
    "        optimizer=torch.optim.Adam(net.parameters(), 1e-3),\n",
    "        acquisition=pinot.active.acquisition.expected_improvement,\n",
    "        n_epochs_training=10)\n",
    "\n"
   ]
  },
  {
   "cell_type": "code",
   "execution_count": null,
   "metadata": {},
   "outputs": [],
   "source": []
  },
  {
   "cell_type": "code",
   "execution_count": 12,
   "metadata": {},
   "outputs": [],
   "source": [
    "dists = []"
   ]
  },
  {
   "cell_type": "code",
   "execution_count": 13,
   "metadata": {},
   "outputs": [],
   "source": [
    "limit = 9999\n",
    "idx = 0\n",
    "bo.blind_pick()\n",
    "\n",
    "while idx < limit and len(bo.new) > 0:\n",
    "    bo.train()\n",
    "    bo.acquire()\n",
    "    idx += 1\n",
    "    dists.append(bo.net.condition(x[:, None]))\n",
    "    "
   ]
  },
  {
   "cell_type": "code",
   "execution_count": 14,
   "metadata": {},
   "outputs": [],
   "source": [
    "import gif\n",
    "@gif.frame\n",
    "def plot(idx):\n",
    "    old = bo.old\n",
    "    plt.figure()\n",
    "    plt.plot(x, y)\n",
    "    plt.scatter(x[old[:idx]], y[old[:idx]])\n",
    "    \n",
    "    dist = dists[idx]\n",
    "    \n",
    "    from pinot.inference.utils import confidence_interval\n",
    "    \n",
    "    low, high = confidence_interval(dist, 0.95, n_samples=100)\n",
    "    plt.fill_between(\n",
    "        x.flatten().detach(), \n",
    "        low.flatten().detach(), \n",
    "        high.flatten().detach(), \n",
    "        color='k', \n",
    "        alpha=0.1)\n",
    "    \n",
    "    low, high = confidence_interval(dist, 0.75, n_samples=100)\n",
    "    plt.fill_between(\n",
    "        x.flatten().detach(), \n",
    "        low.flatten().detach(), \n",
    "        high.flatten().detach(), \n",
    "        color='k', \n",
    "        alpha=0.2)\n",
    "    \n",
    "    low, high = confidence_interval(dist, 0.50, n_samples=100)\n",
    "    plt.fill_between(\n",
    "        x.flatten().detach(), \n",
    "        low.flatten().detach(), \n",
    "        high.flatten().detach(), \n",
    "        color='k', \n",
    "        alpha=0.3)\n",
    "    \n",
    "    low, high = confidence_interval(dist, 0.20, n_samples=100)\n",
    "    plt.fill_between(\n",
    "        x.flatten().detach(), \n",
    "        low.flatten().detach(), \n",
    "        high.flatten().detach(), \n",
    "        color='k', \n",
    "        alpha=0.4)\n",
    "    \n",
    "    plt.ylim(-10, 20)\n",
    "    \n",
    "    \n",
    "    "
   ]
  },
  {
   "cell_type": "code",
   "execution_count": 15,
   "metadata": {},
   "outputs": [],
   "source": [
    "frames = [plot(idx) for idx in range(len(dists))]\n",
    "gif.save(frames, \"adam.gif\", duration=100)"
   ]
  },
  {
   "cell_type": "code",
   "execution_count": null,
   "metadata": {},
   "outputs": [],
   "source": []
  }
 ],
 "metadata": {
  "kernelspec": {
   "display_name": "Python 3",
   "language": "python",
   "name": "python3"
  },
  "language_info": {
   "codemirror_mode": {
    "name": "ipython",
    "version": 3
   },
   "file_extension": ".py",
   "mimetype": "text/x-python",
   "name": "python",
   "nbconvert_exporter": "python",
   "pygments_lexer": "ipython3",
   "version": "3.7.6"
  }
 },
 "nbformat": 4,
 "nbformat_minor": 4
}
