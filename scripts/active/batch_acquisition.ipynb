{
 "cells": [
  {
   "cell_type": "markdown",
   "metadata": {},
   "source": [
    "# Demonstrating batch acquisition"
   ]
  },
  {
   "cell_type": "code",
   "execution_count": 2,
   "metadata": {},
   "outputs": [],
   "source": [
    "def get_ds(args):\n",
    "    \"\"\"\n",
    "    Gets data from disk and applies train/test split.\n",
    "    \"\"\"\n",
    "    ds = getattr(pinot.data, args['data'])()\n",
    "    partition = [int(a) for a in args['partition'].split(':')]\n",
    "    ds_tr, ds_te = pinot.data.utils.split(ds, partition)\n",
    "    return ds_tr, ds_te\n",
    "\n",
    "def get_gpr(args):\n",
    "    layer = pinot.representation.dgl_legacy.gn(model_name=args['layer'])\n",
    "\n",
    "    net_representation = pinot.representation.Sequential(\n",
    "        layer=layer,\n",
    "        config=args['config'])\n",
    "\n",
    "    kernel = pinot.inference.gp.kernels.deep_kernel.DeepKernel(\n",
    "            representation=net_representation,\n",
    "            base_kernel=pinot.inference.gp.kernels.rbf.RBF())\n",
    "\n",
    "    gpr = pinot.inference.gp.gpr.exact_gpr.ExactGPR(\n",
    "            kernel)\n",
    "    return gpr"
   ]
  },
  {
   "cell_type": "code",
   "execution_count": 3,
   "metadata": {},
   "outputs": [],
   "source": [
    "args = {'layer': 'GraphConv',\n",
    " 'noise_model': 'normal-heteroschedastic',\n",
    " 'optimizer': 'adam',\n",
    " 'config': [32, 'tanh', 32, 'tanh', 32, 'tanh'],\n",
    " 'out': 'result',\n",
    " 'data': 'esol',\n",
    " 'batch_size': 32,\n",
    " 'opt': 'Adam',\n",
    " 'lr': 1e-03,\n",
    " 'partition': '4:1',\n",
    " 'n_epochs': 40}"
   ]
  },
  {
   "cell_type": "code",
   "execution_count": 4,
   "metadata": {},
   "outputs": [],
   "source": [
    "from torch import nn\n",
    "from copy import deepcopy\n",
    "from botorch.posteriors import Posterior\n",
    "from botorch.posteriors.gpytorch import GPyTorchPosterior\n",
    "from botorch.models.model import Model\n",
    "from gpytorch.distributions import MultivariateNormal\n",
    "from torch import Tensor\n",
    "\n",
    "class BTModel(nn.Module):\n",
    "    r\"\"\"Wrapping the pinot gpr model for BoTorch.\"\"\"\n",
    "    \n",
    "    def __init__(self, gpr):\n",
    "        super(BTModel, self).__init__()\n",
    "        self.gpr = gpr\n",
    "        self.num_outputs = 1 # needs to be 1 for most of these functions\n",
    "\n",
    "    def condition(self, X: Tensor) -> Posterior:\n",
    "        r\"\"\"Computes the posterior over model outputs at the provided points.\n",
    "\n",
    "        Args:\n",
    "            X: A `b x q x d`-dim Tensor, where `d` is the dimension of the\n",
    "                feature space, `q` is the number of points considered jointly,\n",
    "                and `b` is the batch dimension.\n",
    "            output_indices: A list of indices, corresponding to the outputs over\n",
    "                which to compute the posterior (if the model is multi-output).\n",
    "                Can be used to speed up computation if only a subset of the\n",
    "                model's outputs are required for optimization. If omitted,\n",
    "                computes the posterior over all model outputs.\n",
    "            observation_noise: If True, add observation noise to the posterior.\n",
    "\n",
    "        Returns:\n",
    "            A `Posterior` object, representing a batch of `b` joint distributions\n",
    "            over `q` points and `m` outputs each.\n",
    "        \"\"\"\n",
    "        self.gpr.eval()\n",
    "        out = self.gpr.condition(X)\n",
    "        gptorch_mvn = MultivariateNormal(out.mean, out.covariance_matrix)\n",
    "        return GPyTorchPosterior(gptorch_mvn)\n",
    "    \n",
    "    def loss(self, g, y):\n",
    "        return self.gpr.loss(g, y)"
   ]
  },
  {
   "cell_type": "code",
   "execution_count": 10,
   "metadata": {
    "scrolled": true
   },
   "outputs": [],
   "source": [
    "import torch\n",
    "import sys\n",
    "\n",
    "# sys.path.append('../pinot/')\n",
    "\n",
    "import pinot\n",
    "from pinot.active import experiment\n",
    "\n",
    "net = BTModel(get_gpr(args))\n",
    "ds = getattr(pinot.data, args['data'])()\n",
    "ds = pinot.data.utils.batch(ds, len(ds), seed=None)\n",
    "\n",
    "bo = pinot.active.experiment.SingleTaskBayesianOptimizationExperiment(\n",
    "            net=net,\n",
    "            data=ds[0],\n",
    "            optimizer=torch.optim.Adam(net.parameters(), 1e-3),\n",
    "            acquisition=pinot.active.acquisition.monte_carlo_acq,\n",
    "            q=1,\n",
    "            n_epochs_training=10,\n",
    "            slice_fn = experiment._slice_fn_tuple,\n",
    "            collate_fn = experiment._collate_fn_graph\n",
    ")"
   ]
  },
  {
   "cell_type": "code",
   "execution_count": 11,
   "metadata": {
    "scrolled": true
   },
   "outputs": [],
   "source": [
    "x = bo.run(limit=60)"
   ]
  },
  {
   "cell_type": "code",
   "execution_count": 12,
   "metadata": {},
   "outputs": [],
   "source": [
    "import numpy as np\n",
    "gs, ys = ds[0]\n",
    "best_sol_seq = np.maximum.accumulate(ys[x])"
   ]
  },
  {
   "cell_type": "code",
   "execution_count": 13,
   "metadata": {},
   "outputs": [
    {
     "data": {
      "text/plain": [
       "<matplotlib.legend.Legend at 0x202052e56d0>"
      ]
     },
     "execution_count": 13,
     "metadata": {},
     "output_type": "execute_result"
    },
    {
     "data": {
      "image/png": "[encoded data removed]",
      "text/plain": [
       "<Figure size 432x288 with 1 Axes>"
      ]
     },
     "metadata": {
      "needs_background": "light"
     },
     "output_type": "display_data"
    }
   ],
   "source": [
    "import matplotlib.pyplot as plt\n",
    "\n",
    "plt.plot(best_sol_seq, label='sequential EI')\n",
    "plt.plot(best_sol, label='qEI')\n",
    "plt.legend()"
   ]
  }
 ],
 "metadata": {
  "kernelspec": {
   "display_name": "Python 3",
   "language": "python",
   "name": "python3"
  },
  "language_info": {
   "codemirror_mode": {
    "name": "ipython",
    "version": 3
   },
   "file_extension": ".py",
   "mimetype": "text/x-python",
   "name": "python",
   "nbconvert_exporter": "python",
   "pygments_lexer": "ipython3",
   "version": "3.8.3"
  },
  "output_auto_scroll": true
 },
 "nbformat": 4,
 "nbformat_minor": 4
}
