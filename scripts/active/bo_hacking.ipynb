{
 "cells": [
  {
   "cell_type": "markdown",
   "metadata": {},
   "source": [
    "# Bayes Opt Hacking"
   ]
  },
  {
   "cell_type": "code",
   "execution_count": 1,
   "metadata": {},
   "outputs": [
    {
     "name": "stderr",
     "output_type": "stream",
     "text": [
      "Using backend: pytorch\n"
     ]
    }
   ],
   "source": [
    "%load_ext autoreload\n",
    "%autoreload 2\n",
    "from belief_active_plot import BeliefActivePlot"
   ]
  },
  {
   "cell_type": "code",
   "execution_count": 14,
   "metadata": {},
   "outputs": [],
   "source": [
    "# Running functions\n",
    "args = {\n",
    "    'net': 'VariationalGaussianProcessRegressor',\n",
    "    'architecture': ['GraphSAGE', '32', 'activation', 'tanh',\n",
    "                     'GraphSAGE', '32', 'activation', 'tanh',\n",
    "                     'GraphSAGE', '32', 'activation', 'tanh'],\n",
    "    'optimizer': 'Adam', # Adam\n",
    "    'lr': 1e-4,\n",
    "    'data': 'mpro_hts', # moonshot_sorted\n",
    "    'strategy': 'sequential',\n",
    "    'acquisition': 'Random', # ExpectedImprovement\n",
    "    'num_thompson_samples': 1000,\n",
    "    'num_samples': 1000,\n",
    "    'q': 96,\n",
    "    'device': 'cuda:0',\n",
    "    'num_trials': 1, # 9\n",
    "    'num_rounds': 80, # 80\n",
    "    'num_epochs': 200, # 200\n",
    "    'index_provided': True,\n",
    "    'early_stopping': False,\n",
    "    'beliefs': [],\n",
    "    'annealing': 1.0,\n",
    "    'n_inducing_points': 100,\n",
    "    'sample_frac': 0.05, # 1.0\n",
    "    'update_representation_interval': 20,\n",
    "}\n",
    "\n",
    "from types import SimpleNamespace\n",
    "args = SimpleNamespace(**args)\n",
    "\n",
    "plot = BeliefActivePlot(\n",
    "    # net config\n",
    "    net=args.net,\n",
    "    architecture=args.architecture,\n",
    "    n_inducing_points=args.n_inducing_points,\n",
    "    annealing=args.annealing,\n",
    "\n",
    "    # optimizer config\n",
    "    optimizer_type=args.optimizer,\n",
    "    lr=args.lr,\n",
    "\n",
    "    # experiment config\n",
    "    data=args.data,\n",
    "    sample_frac=args.sample_frac,\n",
    "    acquisition=args.acquisition,\n",
    "    num_samples=args.num_samples,\n",
    "    num_thompson_samples=args.num_thompson_samples,        \n",
    "    q=args.q,\n",
    "    early_stopping=args.early_stopping,\n",
    "\n",
    "    # beliefs\n",
    "    beliefs=args.beliefs,\n",
    "\n",
    "    # housekeeping\n",
    "    device=args.device,\n",
    "    num_trials=args.num_trials,\n",
    "    num_rounds=args.num_rounds,\n",
    "    num_epochs=args.num_epochs,\n",
    "    update_representation_interval=args.update_representation_interval\n",
    ")"
   ]
  },
  {
   "cell_type": "code",
   "execution_count": null,
   "metadata": {},
   "outputs": [
    {
     "name": "stdout",
     "output_type": "stream",
     "text": [
      "0\n",
      "0\n",
      "1\n",
      "2\n",
      "3\n",
      "4\n",
      "5\n",
      "6\n",
      "7\n",
      "8\n",
      "9\n",
      "10\n",
      "11\n",
      "12\n",
      "13\n",
      "14\n",
      "15\n",
      "16\n",
      "17\n",
      "18\n",
      "19\n",
      "20\n",
      "21\n",
      "22\n",
      "23\n",
      "24\n",
      "25\n",
      "26\n",
      "27\n",
      "28\n",
      "29\n",
      "30\n",
      "31\n",
      "32\n",
      "33\n",
      "34\n",
      "35\n",
      "36\n",
      "37\n",
      "38\n",
      "39\n",
      "40\n"
     ]
    }
   ],
   "source": [
    "best_df = plot.generate()"
   ]
  },
  {
   "cell_type": "code",
   "execution_count": null,
   "metadata": {},
   "outputs": [],
   "source": [
    "best_df.to_csv('Random_best.csv')"
   ]
  },
  {
   "cell_type": "code",
   "execution_count": 4,
   "metadata": {},
   "outputs": [],
   "source": [
    "# ds = plot.generate_data()\n",
    "# net = plot.get_net().to('cuda:0')"
   ]
  },
  {
   "cell_type": "code",
   "execution_count": 5,
   "metadata": {},
   "outputs": [],
   "source": [
    "# plot.q = 96\n",
    "# plot.run_trials(ds)"
   ]
  }
 ],
 "metadata": {
  "kernelspec": {
   "display_name": "Python 3",
   "language": "python",
   "name": "python3"
  },
  "language_info": {
   "codemirror_mode": {
    "name": "ipython",
    "version": 3
   },
   "file_extension": ".py",
   "mimetype": "text/x-python",
   "name": "python",
   "nbconvert_exporter": "python",
   "pygments_lexer": "ipython3",
   "version": "3.8.3"
  }
 },
 "nbformat": 4,
 "nbformat_minor": 4
}
