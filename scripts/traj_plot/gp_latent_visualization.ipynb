{
 "cells": [
  {
   "cell_type": "code",
   "execution_count": 1,
   "metadata": {},
   "outputs": [
    {
     "name": "stderr",
     "output_type": "stream",
     "text": [
      "Using backend: pytorch\n",
      "/Users/wangy1/anaconda3/envs/pinot/lib/python3.7/site-packages/dgl/base.py:45: DGLWarning: Detected an old version of PyTorch. Suggest using torch>=1.5.0 for the best experience.\n",
      "  return warnings.warn(message, category=category, stacklevel=1)\n"
     ]
    }
   ],
   "source": [
    "%load_ext autoreload\n",
    "%autoreload 2\n",
    "import pinot"
   ]
  },
  {
   "cell_type": "code",
   "execution_count": 19,
   "metadata": {},
   "outputs": [
    {
     "name": "stderr",
     "output_type": "stream",
     "text": [
      "/Users/wangy1/anaconda3/envs/pinot/lib/python3.7/site-packages/dgl/base.py:45: DGLWarning: Recommend creating graphs by `dgl.graph(data)` instead of `dgl.DGLGraph(data)`.\n",
      "  return warnings.warn(message, category=category, stacklevel=1)\n"
     ]
    }
   ],
   "source": [
    "ds = pinot.data.moonshot()\n",
    "ds = pinot.data.utils.batch(ds, len(ds))\n",
    "ds = pinot.data.datasets.Dataset(ds)"
   ]
  },
  {
   "cell_type": "code",
   "execution_count": 98,
   "metadata": {},
   "outputs": [],
   "source": [
    "ds = pinot.data.moonshot_with_date()"
   ]
  },
  {
   "cell_type": "code",
   "execution_count": 87,
   "metadata": {},
   "outputs": [],
   "source": [
    "import torch\n",
    "layer = pinot.representation.dgl_legacy.gn(model_name='GraphConv')\n",
    "representation = pinot.representation.Sequential(\n",
    "    layer=layer,\n",
    "    config=[32, 'tanh', 32, 'tanh', 2, 'tanh']\n",
    ")\n",
    "output_regressor = pinot.regressors.NeuralNetworkRegressor\n",
    "net = pinot.Net(\n",
    "    representation=representation,\n",
    "    output_regressor_class=output_regressor\n",
    ")\n",
    "optimizer = torch.optim.Adam(net.parameters(), 1e-5)\n",
    "\n",
    "experiment = pinot.Train(\n",
    "    net=net,\n",
    "    data=ds,\n",
    "    optimizer=optimizer,\n",
    "    n_epochs=1000,\n",
    ")"
   ]
  },
  {
   "cell_type": "code",
   "execution_count": 89,
   "metadata": {},
   "outputs": [
    {
     "data": {
      "text/plain": [
       "<pinot.app.experiment.Train at 0x7f8e2a58e810>"
      ]
     },
     "execution_count": 89,
     "metadata": {},
     "output_type": "execute_result"
    }
   ],
   "source": [
    "experiment.train()"
   ]
  },
  {
   "cell_type": "code",
   "execution_count": 47,
   "metadata": {},
   "outputs": [],
   "source": [
    "g, y = next(iter(ds))"
   ]
  },
  {
   "cell_type": "code",
   "execution_count": 93,
   "metadata": {},
   "outputs": [],
   "source": [
    "x = net.representation.forward(g)"
   ]
  },
  {
   "cell_type": "code",
   "execution_count": 96,
   "metadata": {},
   "outputs": [
    {
     "data": {
      "text/plain": [
       "['d0', 'a1', 'd2', 'a3', 'd4', 'a5']"
      ]
     },
     "execution_count": 96,
     "metadata": {},
     "output_type": "execute_result"
    }
   ],
   "source": [
    "net.representation."
   ]
  },
  {
   "cell_type": "code",
   "execution_count": 90,
   "metadata": {},
   "outputs": [
    {
     "data": {
      "text/plain": [
       "<matplotlib.contour.QuadContourSet at 0x7f8e3dfdb290>"
      ]
     },
     "execution_count": 90,
     "metadata": {},
     "output_type": "execute_result"
    },
    {
     "data": {
      "image/png": "[encoded data removed]",
      "text/plain": [
       "<Figure size 432x288 with 1 Axes>"
      ]
     },
     "metadata": {
      "needs_background": "light"
     },
     "output_type": "display_data"
    }
   ],
   "source": [
    "from matplotlib import pyplot as plt\n",
    "import numpy as np\n",
    "fig, ax = plt.subplots(1, 1)\n",
    "ax.scatter(\n",
    "    x[:, 0].detach(), \n",
    "    x[:, 1].detach(),\n",
    "    color='black',\n",
    "    s=6,\n",
    ")\n",
    "ymin, ymax = ax.get_ylim()\n",
    "xmin, xmax = ax.get_xlim()\n",
    "\n",
    "xx, yy = np.meshgrid(\n",
    "    np.linspace(xmin, xmax, 100),\n",
    "    np.linspace(ymin, ymax, 100)\n",
    ")\n",
    "\n",
    "z_all = net.output_regressor.condition(\n",
    "    torch.tensor(xy_all, dtype=torch.float32)\n",
    ").mean.reshape([100, 100]).detach().numpy()\n",
    "\n",
    "ax.contourf(\n",
    "    xx,\n",
    "    yy,\n",
    "    z_all,\n",
    "    cmap=\"coolwarm\",\n",
    "    zorder=0,\n",
    ")\n",
    "\n"
   ]
  },
  {
   "cell_type": "code",
   "execution_count": 1,
   "metadata": {},
   "outputs": [],
   "source": [
    "# semisupervised vae on lead series organized on space"
   ]
  },
  {
   "cell_type": "code",
   "execution_count": 64,
   "metadata": {},
   "outputs": [],
   "source": [
    "xy_all = np.stack(\n",
    "    [xx, yy],\n",
    "    axis=2,\n",
    ").reshape([-1, 2])"
   ]
  },
  {
   "cell_type": "code",
   "execution_count": 60,
   "metadata": {},
   "outputs": [
    {
     "data": {
      "text/plain": [
       "Net(\n",
       "  (representation): Sequential(\n",
       "    (f_in): Sequential(\n",
       "      (0): Linear(in_features=117, out_features=128, bias=True)\n",
       "      (1): Tanh()\n",
       "    )\n",
       "    (d0): GN(\n",
       "      (gn): GraphConv(in=128, out=32, normalization=both, activation=None)\n",
       "    )\n",
       "    (d2): GN(\n",
       "      (gn): GraphConv(in=32, out=32, normalization=both, activation=None)\n",
       "    )\n",
       "    (d4): GN(\n",
       "      (gn): GraphConv(in=32, out=2, normalization=both, activation=None)\n",
       "    )\n",
       "  )\n",
       "  (output_regressor): NeuralNetworkRegressor(\n",
       "    (_output_regression): ModuleList(\n",
       "      (0): Linear(in_features=2, out_features=1, bias=True)\n",
       "      (1): Linear(in_features=2, out_features=1, bias=True)\n",
       "    )\n",
       "  )\n",
       ")"
      ]
     },
     "execution_count": 60,
     "metadata": {},
     "output_type": "execute_result"
    }
   ],
   "source": [
    "net"
   ]
  },
  {
   "cell_type": "code",
   "execution_count": 86,
   "metadata": {},
   "outputs": [
    {
     "data": {
      "text/plain": [
       "Parameter containing:\n",
       "tensor([[0.0171, 0.6134]], requires_grad=True)"
      ]
     },
     "execution_count": 86,
     "metadata": {},
     "output_type": "execute_result"
    }
   ],
   "source": [
    "net.output_regressor._output_regression[0].weight"
   ]
  },
  {
   "cell_type": "code",
   "execution_count": null,
   "metadata": {},
   "outputs": [],
   "source": []
  }
 ],
 "metadata": {
  "kernelspec": {
   "display_name": "Python 3",
   "language": "python",
   "name": "python3"
  },
  "language_info": {
   "codemirror_mode": {
    "name": "ipython",
    "version": 3
   },
   "file_extension": ".py",
   "mimetype": "text/x-python",
   "name": "python",
   "nbconvert_exporter": "python",
   "pygments_lexer": "ipython3",
   "version": "3.7.6"
  }
 },
 "nbformat": 4,
 "nbformat_minor": 4
}
