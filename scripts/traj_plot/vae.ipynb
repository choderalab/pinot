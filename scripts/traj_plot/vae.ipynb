{
 "cells": [
  {
   "cell_type": "code",
   "execution_count": 1,
   "metadata": {},
   "outputs": [],
   "source": [
    "import torch"
   ]
  },
  {
   "cell_type": "code",
   "execution_count": 14,
   "metadata": {},
   "outputs": [],
   "source": [
    "class BernoulliVariationalAutoencoder(torch.nn.Module):\n",
    "    def __init__(self, in_features=167, hidden_features=32, latent_features=2):\n",
    "        super(BernoulliVariationalAutoencoder, self).__init__()\n",
    "        self._f_xz_mu = torch.nn.Sequential(\n",
    "            torch.nn.Linear(in_features, hidden_features),\n",
    "            torch.nn.ELU(),\n",
    "            torch.nn.Linear(hidden_features, latent_features,)\n",
    "        )\n",
    "        \n",
    "        self._f_xz_log_sigma = torch.nn.Sequential(\n",
    "            torch.nn.Linear(in_features, hidden_features),\n",
    "            torch.nn.ELU(),\n",
    "            torch.nn.Linear(hidden_features, latent_features,)\n",
    "        )\n",
    "        \n",
    "        self._f_zx = torch.nn.Sequential(\n",
    "            torch.nn.Linear(latent_features, hidden_features),\n",
    "            torch.nn.ELU(),\n",
    "            torch.nn.Linear(hidden_features, in_features),\n",
    "        )\n",
    "        \n",
    "    def f_xz(self, x):\n",
    "        z_mu, z_log_sigma = self._f_xz_mu(x), self._f_xz_log_sigma(x)\n",
    "        return torch.distributions.normal.Normal(\n",
    "            z_mu,\n",
    "            z_log_sigma.exp()\n",
    "        )\n",
    "        \n",
    "    \n",
    "    def f_zx(self, z):\n",
    "        return self._f_zx(z)\n",
    "        \n",
    "    def get_loss(self, x):\n",
    "        z_distribution = self.f_xz(x)\n",
    "        z = z_distribution.rsample()\n",
    "        x_new = self.f_zx(z)\n",
    "        \n",
    "        latent_distribution = torch.distributions.normal.Normal(\n",
    "            torch.zeros_like(z),\n",
    "            torch.ones_like(z),\n",
    "        )\n",
    "        \n",
    "        target_distribution = torch.distributions.bernoulli.Bernoulli(\n",
    "            probs=torch.sigmoid(x_new),\n",
    "        )\n",
    "        \n",
    "        return z_distribution.log_prob(z).sum() - latent_distribution.log_prob(z).sum() - target_distribution.log_prob(x).sum()"
   ]
  },
  {
   "cell_type": "code",
   "execution_count": 15,
   "metadata": {},
   "outputs": [],
   "source": [
    "vae = BernoulliVariationalAutoencoder()"
   ]
  },
  {
   "cell_type": "code",
   "execution_count": 16,
   "metadata": {},
   "outputs": [],
   "source": [
    "import pandas as pd\n",
    "df = pd.read_csv(\"/Users/wangy1/Documents/GitHub/pinot/pinot/data/moonshot_with_date.csv\")\n",
    "moonshot_smiles = df[\"SMILES\"]\n",
    "df_series = pd.read_csv(\"activity_data.csv\")\n",
    "df = df.merge(df_series, how=\"left\")\n",
    "from rdkit import Chem\n",
    "mols = [Chem.MolFromSmiles(smiles) for smiles in moonshot_smiles]\n",
    "from rdkit.Chem import MACCSkeys\n",
    "import numpy as np\n",
    "fps = np.array([MACCSkeys.GenMACCSKeys(x) for x in mols])\n",
    "x = torch.tensor(fps, dtype=torch.float32)"
   ]
  },
  {
   "cell_type": "code",
   "execution_count": 17,
   "metadata": {},
   "outputs": [
    {
     "data": {
      "text/plain": [
       "tensor(83939.4922, grad_fn=<SubBackward0>)"
      ]
     },
     "execution_count": 17,
     "metadata": {},
     "output_type": "execute_result"
    }
   ],
   "source": [
    "vae.get_loss(x)"
   ]
  },
  {
   "cell_type": "code",
   "execution_count": 18,
   "metadata": {},
   "outputs": [],
   "source": [
    "optimizer = torch.optim.Adam(vae.parameters(), 1e-5)\n",
    "\n",
    "for _ in range(10000):\n",
    "    optimizer.zero_grad()\n",
    "    loss = vae.get_loss(x)\n",
    "    loss.backward()\n",
    "    optimizer.step()\n",
    "    "
   ]
  },
  {
   "cell_type": "code",
   "execution_count": 19,
   "metadata": {},
   "outputs": [
    {
     "data": {
      "text/plain": [
       "<matplotlib.collections.PathCollection at 0x7fc1c48e3b90>"
      ]
     },
     "execution_count": 19,
     "metadata": {},
     "output_type": "execute_result"
    },
    {
     "data": {
      "image/png": "[encoded data removed]",
      "text/plain": [
       "<Figure size 432x288 with 1 Axes>"
      ]
     },
     "metadata": {
      "needs_background": "light"
     },
     "output_type": "display_data"
    }
   ],
   "source": [
    "from matplotlib import pyplot as plt\n",
    "z = vae.f_xz(x).rsample().detach().numpy()\n",
    "plt.scatter(\n",
    "    z[:, 0],\n",
    "    z[:, 1]\n",
    ")"
   ]
  },
  {
   "cell_type": "code",
   "execution_count": null,
   "metadata": {},
   "outputs": [],
   "source": []
  }
 ],
 "metadata": {
  "kernelspec": {
   "display_name": "Python 3.7.6 64-bit ('pinot': conda)",
   "language": "python",
   "name": "python37664bitpinotconda212e9d8bb23242af826d522b1e4cf1f8"
  },
  "language_info": {
   "codemirror_mode": {
    "name": "ipython",
    "version": 3
   },
   "file_extension": ".py",
   "mimetype": "text/x-python",
   "name": "python",
   "nbconvert_exporter": "python",
   "pygments_lexer": "ipython3",
   "version": "3.7.6"
  }
 },
 "nbformat": 4,
 "nbformat_minor": 4
}
