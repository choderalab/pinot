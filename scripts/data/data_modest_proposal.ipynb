{
 "cells": [
  {
   "cell_type": "markdown",
   "metadata": {},
   "source": [
    "# A modest proposal for dataset"
   ]
  },
  {
   "cell_type": "code",
   "execution_count": 83,
   "metadata": {},
   "outputs": [
    {
     "data": {
      "text/html": [
       "<img src=\"https://falexwolf.de/img/scanpy/anndata.svg\"/>"
      ],
      "text/plain": [
       "<IPython.core.display.Image object>"
      ]
     },
     "execution_count": 83,
     "metadata": {},
     "output_type": "execute_result"
    }
   ],
   "source": [
    "from IPython.display import Image\n",
    "from IPython.core.display import HTML \n",
    "Image(url= \"https://falexwolf.de/img/scanpy/anndata.svg\")"
   ]
  },
  {
   "cell_type": "markdown",
   "metadata": {},
   "source": [
    "## Imports"
   ]
  },
  {
   "cell_type": "code",
   "execution_count": 4,
   "metadata": {},
   "outputs": [],
   "source": [
    "import pinot\n",
    "import numpy as np\n",
    "import pandas as pd"
   ]
  },
  {
   "cell_type": "markdown",
   "metadata": {},
   "source": [
    "## Munging and flattening stuff."
   ]
  },
  {
   "cell_type": "code",
   "execution_count": 5,
   "metadata": {},
   "outputs": [],
   "source": [
    "ds = pinot.data.moonshot_mixed()\n",
    "\n",
    "# flatten cs and ys\n",
    "for idx, d in enumerate(ds.ds):\n",
    "    d['cs'] = []\n",
    "    d['ys'] = []\n",
    "    \n",
    "    if isinstance(d['cs_multiple'], list):\n",
    "        d['cs'].extend(d['cs_multiple'])\n",
    "        d['ys'].extend(d['ys_multiple'])\n",
    "    \n",
    "    d['cs'].extend(d['cs_single'])\n",
    "    d['ys'].extend(d['ys_single'])\n",
    "    \n",
    "    del d['cs_multiple']\n",
    "    del d['ys_multiple']\n",
    "    del d['cs_single']\n",
    "    del d['ys_single']\n",
    "    \n",
    "# gather cs and ys into dictionary\n",
    "cs = [d['cs'] for d in ds]\n",
    "ys = [d['ys'] for d in ds]\n",
    "ys_dicts =  [dict(zip(d['cs'], d['ys'])) for d in ds]"
   ]
  },
  {
   "cell_type": "markdown",
   "metadata": {},
   "source": [
    "Preparing to create combined dataframe."
   ]
  },
  {
   "cell_type": "code",
   "execution_count": 16,
   "metadata": {},
   "outputs": [],
   "source": [
    "# first, get all concentrations\n",
    "unique = lambda array: set(x for l in array for x in l)\n",
    "concentrations = sorted(list(unique(cs)))\n",
    "\n",
    "# for each concentration, check if it is in cs\n",
    "datalist = []\n",
    "for idx, ys_dict in enumerate(ys_dicts):\n",
    "    \n",
    "    # create row of dataframe\n",
    "    row_y = []\n",
    "    for concentration in concentrations:\n",
    "        if concentration in ys_dict:\n",
    "            # if it is, add it to the row\n",
    "            row_y.append(ys_dict[concentration])\n",
    "        else:\n",
    "            # else, add a dummy value\n",
    "            row_y.append(np.nan)\n",
    "    \n",
    "    # append row to dataframe\n",
    "    datalist.append(row_y)"
   ]
  },
  {
   "cell_type": "markdown",
   "metadata": {},
   "source": [
    "## Creating AnnData object."
   ]
  },
  {
   "cell_type": "code",
   "execution_count": 71,
   "metadata": {},
   "outputs": [],
   "source": [
    "# create dataframe\n",
    "df = pd.DataFrame(datalist, columns=concentrations)\n",
    "df.index = [str(i) for i in df.index]\n",
    "df.index.name = 'compound'\n",
    "df.columns = [str(c) for c in df.columns]\n",
    "df.columns.name = 'concentration'\n",
    "\n",
    "# create AnnData object\n",
    "import anndata as ad\n",
    "adata = ad.AnnData(df)"
   ]
  },
  {
   "cell_type": "markdown",
   "metadata": {},
   "source": [
    "Fill metadata."
   ]
  },
  {
   "cell_type": "code",
   "execution_count": 72,
   "metadata": {},
   "outputs": [],
   "source": [
    "# add observation metadata\n",
    "adata.obs['SMILES'] = [d['SMILES'] for d in ds]\n",
    "adata.obs['graph'] = [d['g'] for d in ds]\n",
    "\n",
    "# add data-level metadata\n",
    "adata.layers['measurement'] = adata.X\n",
    "\n",
    "# for example, replicate annotation\n",
    "replicate_annotations = np.random.choice([0., 1.], adata.shape)\n",
    "replicate_annotations[np.isnan(adata.X)] = np.nan\n",
    "adata.layers['replicate'] = replicate_annotations\n",
    "\n",
    "# could add dataset-level information\n",
    "adata.uns['n_measurements'] = (~np.isnan(adata.X)).sum()\n",
    "adata.uns['n_unique_graphs'] = len(adata.obs)"
   ]
  },
  {
   "cell_type": "code",
   "execution_count": 73,
   "metadata": {},
   "outputs": [
    {
     "data": {
      "text/plain": [
       "AnnData object with n_obs × n_vars = 785 × 39\n",
       "    obs: 'SMILES', 'graph'\n",
       "    uns: 'n_measurements', 'n_unique_graphs'\n",
       "    layers: 'measurement', 'replicate'"
      ]
     },
     "execution_count": 73,
     "metadata": {},
     "output_type": "execute_result"
    }
   ],
   "source": [
    "adata"
   ]
  },
  {
   "cell_type": "code",
   "execution_count": 74,
   "metadata": {},
   "outputs": [
    {
     "data": {
      "text/html": [
       "<div>\n",
       "<style scoped>\n",
       "    .dataframe tbody tr th:only-of-type {\n",
       "        vertical-align: middle;\n",
       "    }\n",
       "\n",
       "    .dataframe tbody tr th {\n",
       "        vertical-align: top;\n",
       "    }\n",
       "\n",
       "    .dataframe thead th {\n",
       "        text-align: right;\n",
       "    }\n",
       "</style>\n",
       "<table border=\"1\" class=\"dataframe\">\n",
       "  <thead>\n",
       "    <tr style=\"text-align: right;\">\n",
       "      <th></th>\n",
       "      <th>SMILES</th>\n",
       "      <th>graph</th>\n",
       "    </tr>\n",
       "    <tr>\n",
       "      <th>compound</th>\n",
       "      <th></th>\n",
       "      <th></th>\n",
       "    </tr>\n",
       "  </thead>\n",
       "  <tbody>\n",
       "    <tr>\n",
       "      <th>0</th>\n",
       "      <td>O=C(Cn1ccnc1[N+](=O)[O-])NCc1ccccc1</td>\n",
       "      <td>DGLGraph(num_nodes=19, num_edges=40,\\n        ...</td>\n",
       "    </tr>\n",
       "    <tr>\n",
       "      <th>1</th>\n",
       "      <td>COc1ccc(NC(=O)c2ccc(C(=N)N(C)C)cc2)c(C(=O)Nc2c...</td>\n",
       "      <td>DGLGraph(num_nodes=32, num_edges=68,\\n        ...</td>\n",
       "    </tr>\n",
       "    <tr>\n",
       "      <th>2</th>\n",
       "      <td>Nc1cc(C(F)(F)F)c(-c2nc(N3CCOCC3)nc(N3CCOCC3)n2...</td>\n",
       "      <td>DGLGraph(num_nodes=29, num_edges=64,\\n        ...</td>\n",
       "    </tr>\n",
       "    <tr>\n",
       "      <th>3</th>\n",
       "      <td>C[C@@H]1COCCN1c1cc(C2([S@](C)(=N)=O)CC2)nc(-c2...</td>\n",
       "      <td>DGLGraph(num_nodes=29, num_edges=66,\\n        ...</td>\n",
       "    </tr>\n",
       "    <tr>\n",
       "      <th>4</th>\n",
       "      <td>C[C@@H](Cn1ccc(-c2ccc(C#N)c(Cl)c2)n1)NC(=O)c1c...</td>\n",
       "      <td>DGLGraph(num_nodes=28, num_edges=60,\\n        ...</td>\n",
       "    </tr>\n",
       "    <tr>\n",
       "      <th>...</th>\n",
       "      <td>...</td>\n",
       "      <td>...</td>\n",
       "    </tr>\n",
       "    <tr>\n",
       "      <th>780</th>\n",
       "      <td>O=C(Nc1cccnc1)Nc1ccc(Cl)s1</td>\n",
       "      <td>DGLGraph(num_nodes=16, num_edges=34,\\n        ...</td>\n",
       "    </tr>\n",
       "    <tr>\n",
       "      <th>781</th>\n",
       "      <td>Cc1coc(NC(=O)Nc2cccnc2)n1</td>\n",
       "      <td>DGLGraph(num_nodes=16, num_edges=34,\\n        ...</td>\n",
       "    </tr>\n",
       "    <tr>\n",
       "      <th>782</th>\n",
       "      <td>O=C(Cc1ccc(Cl)s1)Nc1cccnc1</td>\n",
       "      <td>DGLGraph(num_nodes=16, num_edges=34,\\n        ...</td>\n",
       "    </tr>\n",
       "    <tr>\n",
       "      <th>783</th>\n",
       "      <td>Cc1cnc(CC(=O)Nc2cccnc2)o1</td>\n",
       "      <td>DGLGraph(num_nodes=16, num_edges=34,\\n        ...</td>\n",
       "    </tr>\n",
       "    <tr>\n",
       "      <th>784</th>\n",
       "      <td>Cc1ccc(NC(=O)Cc2cc3cccnc3[nH]2)s1</td>\n",
       "      <td>DGLGraph(num_nodes=19, num_edges=42,\\n        ...</td>\n",
       "    </tr>\n",
       "  </tbody>\n",
       "</table>\n",
       "<p>785 rows × 2 columns</p>\n",
       "</div>"
      ],
      "text/plain": [
       "                                                     SMILES  \\\n",
       "compound                                                      \n",
       "0                       O=C(Cn1ccnc1[N+](=O)[O-])NCc1ccccc1   \n",
       "1         COc1ccc(NC(=O)c2ccc(C(=N)N(C)C)cc2)c(C(=O)Nc2c...   \n",
       "2         Nc1cc(C(F)(F)F)c(-c2nc(N3CCOCC3)nc(N3CCOCC3)n2...   \n",
       "3         C[C@@H]1COCCN1c1cc(C2([S@](C)(=N)=O)CC2)nc(-c2...   \n",
       "4         C[C@@H](Cn1ccc(-c2ccc(C#N)c(Cl)c2)n1)NC(=O)c1c...   \n",
       "...                                                     ...   \n",
       "780                              O=C(Nc1cccnc1)Nc1ccc(Cl)s1   \n",
       "781                               Cc1coc(NC(=O)Nc2cccnc2)n1   \n",
       "782                              O=C(Cc1ccc(Cl)s1)Nc1cccnc1   \n",
       "783                               Cc1cnc(CC(=O)Nc2cccnc2)o1   \n",
       "784                       Cc1ccc(NC(=O)Cc2cc3cccnc3[nH]2)s1   \n",
       "\n",
       "                                                      graph  \n",
       "compound                                                     \n",
       "0         DGLGraph(num_nodes=19, num_edges=40,\\n        ...  \n",
       "1         DGLGraph(num_nodes=32, num_edges=68,\\n        ...  \n",
       "2         DGLGraph(num_nodes=29, num_edges=64,\\n        ...  \n",
       "3         DGLGraph(num_nodes=29, num_edges=66,\\n        ...  \n",
       "4         DGLGraph(num_nodes=28, num_edges=60,\\n        ...  \n",
       "...                                                     ...  \n",
       "780       DGLGraph(num_nodes=16, num_edges=34,\\n        ...  \n",
       "781       DGLGraph(num_nodes=16, num_edges=34,\\n        ...  \n",
       "782       DGLGraph(num_nodes=16, num_edges=34,\\n        ...  \n",
       "783       DGLGraph(num_nodes=16, num_edges=34,\\n        ...  \n",
       "784       DGLGraph(num_nodes=19, num_edges=42,\\n        ...  \n",
       "\n",
       "[785 rows x 2 columns]"
      ]
     },
     "execution_count": 74,
     "metadata": {},
     "output_type": "execute_result"
    }
   ],
   "source": [
    "adata.obs"
   ]
  },
  {
   "cell_type": "markdown",
   "metadata": {},
   "source": [
    "# Mini-batches demo"
   ]
  },
  {
   "cell_type": "markdown",
   "metadata": {},
   "source": [
    "Setting up a loader."
   ]
  },
  {
   "cell_type": "code",
   "execution_count": 79,
   "metadata": {},
   "outputs": [],
   "source": [
    "# adding requisite columns\n",
    "a_df = adata.to_df()\n",
    "a_df['compound'] = range(len(a_df))\n",
    "a_df['graph'] = adata.obs['graph']\n",
    "\n",
    "# melting to long format\n",
    "df_loader_unfiltered = pd.melt(a_df, id_vars=['compound', 'graph'])\n",
    "df_loader = df_loader_unfiltered[~np.isnan(df_loader_unfiltered['value'])]\n",
    "df_loader.columns = ['id', 'g', 'c', 'y']"
   ]
  },
  {
   "cell_type": "code",
   "execution_count": 82,
   "metadata": {},
   "outputs": [
    {
     "data": {
      "text/html": [
       "<div>\n",
       "<style scoped>\n",
       "    .dataframe tbody tr th:only-of-type {\n",
       "        vertical-align: middle;\n",
       "    }\n",
       "\n",
       "    .dataframe tbody tr th {\n",
       "        vertical-align: top;\n",
       "    }\n",
       "\n",
       "    .dataframe thead th {\n",
       "        text-align: right;\n",
       "    }\n",
       "</style>\n",
       "<table border=\"1\" class=\"dataframe\">\n",
       "  <thead>\n",
       "    <tr style=\"text-align: right;\">\n",
       "      <th></th>\n",
       "      <th>id</th>\n",
       "      <th>g</th>\n",
       "      <th>c</th>\n",
       "      <th>y</th>\n",
       "    </tr>\n",
       "  </thead>\n",
       "  <tbody>\n",
       "    <tr>\n",
       "      <th>22</th>\n",
       "      <td>22</td>\n",
       "      <td>DGLGraph(num_nodes=27, num_edges=58,\\n        ...</td>\n",
       "      <td>0.02</td>\n",
       "      <td>6.278152</td>\n",
       "    </tr>\n",
       "    <tr>\n",
       "      <th>23</th>\n",
       "      <td>23</td>\n",
       "      <td>DGLGraph(num_nodes=16, num_edges=32,\\n        ...</td>\n",
       "      <td>0.02</td>\n",
       "      <td>1.340155</td>\n",
       "    </tr>\n",
       "    <tr>\n",
       "      <th>29</th>\n",
       "      <td>29</td>\n",
       "      <td>DGLGraph(num_nodes=35, num_edges=74,\\n        ...</td>\n",
       "      <td>0.02</td>\n",
       "      <td>-5.929080</td>\n",
       "    </tr>\n",
       "    <tr>\n",
       "      <th>30</th>\n",
       "      <td>30</td>\n",
       "      <td>DGLGraph(num_nodes=35, num_edges=74,\\n        ...</td>\n",
       "      <td>0.02</td>\n",
       "      <td>-2.419920</td>\n",
       "    </tr>\n",
       "    <tr>\n",
       "      <th>31</th>\n",
       "      <td>31</td>\n",
       "      <td>DGLGraph(num_nodes=35, num_edges=74,\\n        ...</td>\n",
       "      <td>0.02</td>\n",
       "      <td>-7.149176</td>\n",
       "    </tr>\n",
       "    <tr>\n",
       "      <th>...</th>\n",
       "      <td>...</td>\n",
       "      <td>...</td>\n",
       "      <td>...</td>\n",
       "      <td>...</td>\n",
       "    </tr>\n",
       "    <tr>\n",
       "      <th>30085</th>\n",
       "      <td>255</td>\n",
       "      <td>DGLGraph(num_nodes=20, num_edges=42,\\n        ...</td>\n",
       "      <td>99.5</td>\n",
       "      <td>49.565392</td>\n",
       "    </tr>\n",
       "    <tr>\n",
       "      <th>30206</th>\n",
       "      <td>376</td>\n",
       "      <td>DGLGraph(num_nodes=23, num_edges=50,\\n        ...</td>\n",
       "      <td>99.5</td>\n",
       "      <td>89.303780</td>\n",
       "    </tr>\n",
       "    <tr>\n",
       "      <th>30207</th>\n",
       "      <td>377</td>\n",
       "      <td>DGLGraph(num_nodes=23, num_edges=50,\\n        ...</td>\n",
       "      <td>99.5</td>\n",
       "      <td>95.977257</td>\n",
       "    </tr>\n",
       "    <tr>\n",
       "      <th>30389</th>\n",
       "      <td>559</td>\n",
       "      <td>DGLGraph(num_nodes=20, num_edges=44,\\n        ...</td>\n",
       "      <td>99.5</td>\n",
       "      <td>65.462982</td>\n",
       "    </tr>\n",
       "    <tr>\n",
       "      <th>30496</th>\n",
       "      <td>666</td>\n",
       "      <td>DGLGraph(num_nodes=25, num_edges=54,\\n        ...</td>\n",
       "      <td>99.5</td>\n",
       "      <td>84.236710</td>\n",
       "    </tr>\n",
       "  </tbody>\n",
       "</table>\n",
       "<p>2667 rows × 4 columns</p>\n",
       "</div>"
      ],
      "text/plain": [
       "        id                                                  g     c          y\n",
       "22      22  DGLGraph(num_nodes=27, num_edges=58,\\n        ...  0.02   6.278152\n",
       "23      23  DGLGraph(num_nodes=16, num_edges=32,\\n        ...  0.02   1.340155\n",
       "29      29  DGLGraph(num_nodes=35, num_edges=74,\\n        ...  0.02  -5.929080\n",
       "30      30  DGLGraph(num_nodes=35, num_edges=74,\\n        ...  0.02  -2.419920\n",
       "31      31  DGLGraph(num_nodes=35, num_edges=74,\\n        ...  0.02  -7.149176\n",
       "...    ...                                                ...   ...        ...\n",
       "30085  255  DGLGraph(num_nodes=20, num_edges=42,\\n        ...  99.5  49.565392\n",
       "30206  376  DGLGraph(num_nodes=23, num_edges=50,\\n        ...  99.5  89.303780\n",
       "30207  377  DGLGraph(num_nodes=23, num_edges=50,\\n        ...  99.5  95.977257\n",
       "30389  559  DGLGraph(num_nodes=20, num_edges=44,\\n        ...  99.5  65.462982\n",
       "30496  666  DGLGraph(num_nodes=25, num_edges=54,\\n        ...  99.5  84.236710\n",
       "\n",
       "[2667 rows x 4 columns]"
      ]
     },
     "execution_count": 82,
     "metadata": {},
     "output_type": "execute_result"
    }
   ],
   "source": [
    "df_loader"
   ]
  },
  {
   "cell_type": "markdown",
   "metadata": {},
   "source": [
    "Iterating."
   ]
  },
  {
   "cell_type": "code",
   "execution_count": 81,
   "metadata": {},
   "outputs": [
    {
     "name": "stdout",
     "output_type": "stream",
     "text": [
      "DGLGraph(num_nodes=27, num_edges=58,\n",
      "         ndata_schemes={'type': Scheme(shape=(1,), dtype=torch.float32), 'h': Scheme(shape=(117,), dtype=torch.float32)}\n",
      "         edata_schemes={'type': Scheme(shape=(), dtype=torch.float32)})\n",
      "0.02\n",
      "6.278151988983154\n"
     ]
    }
   ],
   "source": [
    "for batch in df_loader.itertuples(index=False):\n",
    "    print(batch.g)\n",
    "    print(batch.c)\n",
    "    print(batch.y)\n",
    "    break"
   ]
  },
  {
   "cell_type": "markdown",
   "metadata": {},
   "source": [
    "Note that `itertuples` is actually slow for iteration purposes. This is just to demonstrate the idea."
   ]
  }
 ],
 "metadata": {
  "kernelspec": {
   "display_name": "Python 3",
   "language": "python",
   "name": "python3"
  },
  "language_info": {
   "codemirror_mode": {
    "name": "ipython",
    "version": 3
   },
   "file_extension": ".py",
   "mimetype": "text/x-python",
   "name": "python",
   "nbconvert_exporter": "python",
   "pygments_lexer": "ipython3",
   "version": "3.8.3"
  }
 },
 "nbformat": 4,
 "nbformat_minor": 4
}
