{
 "cells": [
  {
   "cell_type": "markdown",
   "metadata": {},
   "source": [
    "# Moonshot Data Munging"
   ]
  },
  {
   "cell_type": "markdown",
   "metadata": {},
   "source": [
    "Imports."
   ]
  },
  {
   "cell_type": "code",
   "execution_count": 1,
   "metadata": {},
   "outputs": [],
   "source": [
    "import pandas as pd"
   ]
  },
  {
   "cell_type": "markdown",
   "metadata": {},
   "source": [
    "Downloading file."
   ]
  },
  {
   "cell_type": "code",
   "execution_count": 57,
   "metadata": {},
   "outputs": [],
   "source": [
    "import requests\n",
    "r = requests.get('https://postera.ai/covid/submissions.csv', allow_redirects=True)\n",
    "filename = r.headers.get('content-disposition').split('filename=\"')[-1][:-1]\n",
    "with open(filename, 'wb') as f:\n",
    "    f.write(r.content)"
   ]
  },
  {
   "cell_type": "markdown",
   "metadata": {},
   "source": [
    "Data munging."
   ]
  },
  {
   "cell_type": "code",
   "execution_count": 108,
   "metadata": {},
   "outputs": [],
   "source": [
    "# read in dataframe\n",
    "submissions = pd.read_csv('./submissions.csv')\n",
    "\n",
    "# filter for columns we care about\n",
    "keep = ['SMILES', 'CID', 'CID (canonical)', 'InChIKey', 'Ordered', 'Made',\n",
    "        'Assayed', 'MW', 'cLogP', 'Covalent Warhead', 'r_inhibition_at_20_uM',\n",
    "        'r_inhibition_at_50_uM', 'r_avg_IC50', 'f_inhibition_at_20_uM',\n",
    "        'f_inhibition_at_50_uM', 'f_avg_IC50', 'f_avg_pIC50',\n",
    "        'relative_solubility_at_20_uM', 'relative_solubility_at_100_uM',\n",
    "        'trypsin_IC50', 'Order Date', 'Shipment Date']\n",
    "submissions = submissions[keep]\n",
    "\n",
    "# only use rows that have assays\n",
    "submissions = submissions[submissions['Assayed'] == True]\n",
    "\n",
    "# filter for those that have an order date annotated\n",
    "submissions = submissions[submissions['Order Date'].notna()]"
   ]
  }
 ],
 "metadata": {
  "kernelspec": {
   "display_name": "Python 3",
   "language": "python",
   "name": "python3"
  },
  "language_info": {
   "codemirror_mode": {
    "name": "ipython",
    "version": 3
   },
   "file_extension": ".py",
   "mimetype": "text/x-python",
   "name": "python",
   "nbconvert_exporter": "python",
   "pygments_lexer": "ipython3",
   "version": "3.8.3"
  }
 },
 "nbformat": 4,
 "nbformat_minor": 4
}
