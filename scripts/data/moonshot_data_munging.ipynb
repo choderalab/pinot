{
 "cells": [
  {
   "cell_type": "markdown",
   "metadata": {},
   "source": [
    "# Moonshot Data Munging"
   ]
  },
  {
   "cell_type": "markdown",
   "metadata": {},
   "source": [
    "Imports."
   ]
  },
  {
   "cell_type": "code",
   "execution_count": 1,
   "metadata": {},
   "outputs": [],
   "source": [
    "import pandas as pd"
   ]
  },
  {
   "cell_type": "markdown",
   "metadata": {},
   "source": [
    "Downloading file."
   ]
  },
  {
   "cell_type": "code",
   "execution_count": 7,
   "metadata": {},
   "outputs": [],
   "source": [
    "# read in dataframe\n",
    "submissions = pd.read_csv(\n",
    "    'https://postera.ai/covid/submissions.csv'\n",
    ")"
   ]
  },
  {
   "cell_type": "markdown",
   "metadata": {},
   "source": [
    "Data munging."
   ]
  },
  {
   "cell_type": "code",
   "execution_count": 8,
   "metadata": {},
   "outputs": [],
   "source": [
    "# filter for columns we care about\n",
    "keep = ['SMILES', 'CID', 'CID (canonical)', 'InChIKey', 'Ordered', 'Made',\n",
    "        'Assayed', 'MW', 'cLogP', 'Covalent Warhead', 'r_inhibition_at_20_uM',\n",
    "        'r_inhibition_at_50_uM', 'r_avg_IC50', 'f_inhibition_at_20_uM',\n",
    "        'f_inhibition_at_50_uM', 'f_avg_IC50', 'f_avg_pIC50',\n",
    "        'relative_solubility_at_20_uM', 'relative_solubility_at_100_uM',\n",
    "        'trypsin_IC50', 'Order Date', 'Shipment Date']\n",
    "submissions = submissions[keep]\n",
    "\n",
    "# only use rows that have assays\n",
    "submissions = submissions[submissions['Assayed'] == True]\n",
    "\n",
    "# filter for those that have an order date annotated\n",
    "submissions = submissions[submissions['Order Date'].notna()]\n",
    "\n",
    "submissions.to_csv('./submissions.csv')"
   ]
  },
  {
   "cell_type": "code",
   "execution_count": 16,
   "metadata": {},
   "outputs": [
    {
     "data": {
      "text/plain": [
       "['SMILES',\n",
       " 'CID',\n",
       " 'CID (canonical)',\n",
       " 'InChIKey',\n",
       " 'Ordered',\n",
       " 'Made',\n",
       " 'Assayed',\n",
       " 'MW',\n",
       " 'cLogP',\n",
       " 'Covalent Warhead',\n",
       " 'r_inhibition_at_20_uM',\n",
       " 'r_inhibition_at_50_uM',\n",
       " 'r_avg_IC50',\n",
       " 'f_inhibition_at_20_uM',\n",
       " 'f_inhibition_at_50_uM',\n",
       " 'f_avg_IC50',\n",
       " 'f_avg_pIC50',\n",
       " 'relative_solubility_at_20_uM',\n",
       " 'relative_solubility_at_100_uM',\n",
       " 'trypsin_IC50',\n",
       " 'Order Date',\n",
       " 'Shipment Date']"
      ]
     },
     "execution_count": 16,
     "metadata": {},
     "output_type": "execute_result"
    }
   ],
   "source": [
    "[c for c in submissions.columns]"
   ]
  }
 ],
 "metadata": {
  "kernelspec": {
   "display_name": "Python 3",
   "language": "python",
   "name": "python3"
  },
  "language_info": {
   "codemirror_mode": {
    "name": "ipython",
    "version": 3
   },
   "file_extension": ".py",
   "mimetype": "text/x-python",
   "name": "python",
   "nbconvert_exporter": "python",
   "pygments_lexer": "ipython3",
   "version": "3.8.3"
  }
 },
 "nbformat": 4,
 "nbformat_minor": 4
}
