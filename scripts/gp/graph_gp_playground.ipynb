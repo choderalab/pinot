{
 "cells": [
  {
   "cell_type": "code",
   "execution_count": 1,
   "metadata": {},
   "outputs": [
    {
     "name": "stderr",
     "output_type": "stream",
     "text": [
      "Using backend: pytorch\n"
     ]
    }
   ],
   "source": [
    "import torch\n",
    "import numpy as np\n",
    "import pinot"
   ]
  },
  {
   "cell_type": "code",
   "execution_count": 2,
   "metadata": {},
   "outputs": [],
   "source": [
    "ds = pinot.data.esol()\n",
    "# ds = pinot.data.utils.batch(ds, 8)\n",
    "ds_tr, ds_te = pinot.data.utils.split(ds, [2, 1])\n",
    "ds_tr = pinot.data.utils.batch(ds_tr, len(ds_tr))\n",
    "ds_te = pinot.data.utils.batch(ds_te, len(ds_te))"
   ]
  },
  {
   "cell_type": "code",
   "execution_count": 8,
   "metadata": {},
   "outputs": [],
   "source": [
    "graph_kernel = pinot.inference.gp.deep_kernel.DeepKernel(\n",
    "    representation=pinot.representation.Sequential(\n",
    "        pinot.representation.dgl_legacy.gn(),\n",
    "        [32, 'tanh', 32, 'tanh', 32, 'tanh']),\n",
    "    base_kernel=pinot.inference.gp.kernels.RBF(l=10))"
   ]
  },
  {
   "cell_type": "code",
   "execution_count": 9,
   "metadata": {
    "scrolled": true
   },
   "outputs": [
    {
     "name": "stdout",
     "output_type": "stream",
     "text": [
      "tensor(1967.9673, grad_fn=<SumBackward0>)\n",
      "tensor(1920.3394, grad_fn=<SumBackward0>)\n",
      "tensor(1856.0464, grad_fn=<SumBackward0>)\n",
      "tensor(1777.9651, grad_fn=<SumBackward0>)\n",
      "tensor(1694.7557, grad_fn=<SumBackward0>)\n",
      "tensor(1620.6134, grad_fn=<SumBackward0>)\n",
      "tensor(1556.6455, grad_fn=<SumBackward0>)\n",
      "tensor(1485.9333, grad_fn=<SumBackward0>)\n",
      "tensor(1421.6936, grad_fn=<SumBackward0>)\n",
      "tensor(1367.1971, grad_fn=<SumBackward0>)\n",
      "tensor(1312.3926, grad_fn=<SumBackward0>)\n",
      "tensor(1275.3464, grad_fn=<SumBackward0>)\n",
      "tensor(1237.4292, grad_fn=<SumBackward0>)\n",
      "tensor(1209.7474, grad_fn=<SumBackward0>)\n",
      "tensor(1177.7336, grad_fn=<SumBackward0>)\n",
      "tensor(1152.2732, grad_fn=<SumBackward0>)\n",
      "tensor(1123.8618, grad_fn=<SumBackward0>)\n",
      "tensor(1103.8848, grad_fn=<SumBackward0>)\n",
      "tensor(1083.0005, grad_fn=<SumBackward0>)\n",
      "tensor(1067.5665, grad_fn=<SumBackward0>)\n",
      "tensor(1051.9287, grad_fn=<SumBackward0>)\n",
      "tensor(1037.5890, grad_fn=<SumBackward0>)\n",
      "tensor(1024.7435, grad_fn=<SumBackward0>)\n",
      "tensor(1011.2316, grad_fn=<SumBackward0>)\n",
      "tensor(1001.0052, grad_fn=<SumBackward0>)\n",
      "tensor(989.9479, grad_fn=<SumBackward0>)\n",
      "tensor(981.2487, grad_fn=<SumBackward0>)\n",
      "tensor(971.7834, grad_fn=<SumBackward0>)\n",
      "tensor(963.1665, grad_fn=<SumBackward0>)\n",
      "tensor(954.1202, grad_fn=<SumBackward0>)\n",
      "tensor(945.8498, grad_fn=<SumBackward0>)\n",
      "tensor(937.5350, grad_fn=<SumBackward0>)\n",
      "tensor(929.7896, grad_fn=<SumBackward0>)\n",
      "tensor(922.0602, grad_fn=<SumBackward0>)\n",
      "tensor(914.5820, grad_fn=<SumBackward0>)\n",
      "tensor(907.4289, grad_fn=<SumBackward0>)\n",
      "tensor(900.5373, grad_fn=<SumBackward0>)\n",
      "tensor(894.2879, grad_fn=<SumBackward0>)\n",
      "tensor(888.1098, grad_fn=<SumBackward0>)\n",
      "tensor(882.3947, grad_fn=<SumBackward0>)\n",
      "tensor(876.6592, grad_fn=<SumBackward0>)\n",
      "tensor(871.4144, grad_fn=<SumBackward0>)\n",
      "tensor(866.3625, grad_fn=<SumBackward0>)\n",
      "tensor(861.5430, grad_fn=<SumBackward0>)\n",
      "tensor(856.8438, grad_fn=<SumBackward0>)\n",
      "tensor(852.0056, grad_fn=<SumBackward0>)\n",
      "tensor(847.4887, grad_fn=<SumBackward0>)\n",
      "tensor(842.8865, grad_fn=<SumBackward0>)\n",
      "tensor(838.6885, grad_fn=<SumBackward0>)\n",
      "tensor(834.3478, grad_fn=<SumBackward0>)\n",
      "tensor(830.1470, grad_fn=<SumBackward0>)\n",
      "tensor(826.0952, grad_fn=<SumBackward0>)\n",
      "tensor(822.0808, grad_fn=<SumBackward0>)\n",
      "tensor(818.3745, grad_fn=<SumBackward0>)\n",
      "tensor(814.6703, grad_fn=<SumBackward0>)\n",
      "tensor(811.0370, grad_fn=<SumBackward0>)\n",
      "tensor(807.6395, grad_fn=<SumBackward0>)\n",
      "tensor(804.2895, grad_fn=<SumBackward0>)\n",
      "tensor(800.9855, grad_fn=<SumBackward0>)\n",
      "tensor(797.8165, grad_fn=<SumBackward0>)\n",
      "tensor(794.7166, grad_fn=<SumBackward0>)\n",
      "tensor(791.6699, grad_fn=<SumBackward0>)\n",
      "tensor(788.7339, grad_fn=<SumBackward0>)\n",
      "tensor(785.8856, grad_fn=<SumBackward0>)\n",
      "tensor(783.0704, grad_fn=<SumBackward0>)\n",
      "tensor(780.3063, grad_fn=<SumBackward0>)\n",
      "tensor(777.6306, grad_fn=<SumBackward0>)\n",
      "tensor(775.0281, grad_fn=<SumBackward0>)\n",
      "tensor(772.4719, grad_fn=<SumBackward0>)\n",
      "tensor(769.9586, grad_fn=<SumBackward0>)\n",
      "tensor(767.4844, grad_fn=<SumBackward0>)\n",
      "tensor(765.0511, grad_fn=<SumBackward0>)\n",
      "tensor(762.6708, grad_fn=<SumBackward0>)\n",
      "tensor(760.3553, grad_fn=<SumBackward0>)\n",
      "tensor(758.0943, grad_fn=<SumBackward0>)\n",
      "tensor(755.8708, grad_fn=<SumBackward0>)\n",
      "tensor(753.6851, grad_fn=<SumBackward0>)\n",
      "tensor(751.5454, grad_fn=<SumBackward0>)\n",
      "tensor(749.4563, grad_fn=<SumBackward0>)\n",
      "tensor(747.4144, grad_fn=<SumBackward0>)\n",
      "tensor(745.4519, grad_fn=<SumBackward0>)\n",
      "tensor(743.5998, grad_fn=<SumBackward0>)\n",
      "tensor(742.0229, grad_fn=<SumBackward0>)\n",
      "tensor(740.7585, grad_fn=<SumBackward0>)\n",
      "tensor(740.5574, grad_fn=<SumBackward0>)\n",
      "tensor(739.3033, grad_fn=<SumBackward0>)\n",
      "tensor(737.9913, grad_fn=<SumBackward0>)\n",
      "tensor(733.1313, grad_fn=<SumBackward0>)\n",
      "tensor(730.9308, grad_fn=<SumBackward0>)\n",
      "tensor(731.2025, grad_fn=<SumBackward0>)\n",
      "tensor(729.1908, grad_fn=<SumBackward0>)\n",
      "tensor(726.2218, grad_fn=<SumBackward0>)\n",
      "tensor(724.4589, grad_fn=<SumBackward0>)\n",
      "tensor(724.0274, grad_fn=<SumBackward0>)\n",
      "tensor(722.9313, grad_fn=<SumBackward0>)\n",
      "tensor(720.1261, grad_fn=<SumBackward0>)\n",
      "tensor(718.5717, grad_fn=<SumBackward0>)\n",
      "tensor(718.1129, grad_fn=<SumBackward0>)\n",
      "tensor(716.5305, grad_fn=<SumBackward0>)\n",
      "tensor(714.4525, grad_fn=<SumBackward0>)\n"
     ]
    }
   ],
   "source": [
    "opt = torch.optim.Adam(graph_kernel.parameters(), 1e-3)\n",
    "x_tr, y_tr = ds_tr[0]\n",
    "for _ in range(100):\n",
    "    opt.zero_grad()\n",
    "    loss = graph_kernel.loss(x_tr, y_tr).sum()\n",
    "    loss.backward()\n",
    "    print(loss)\n",
    "    opt.step()"
   ]
  },
  {
   "cell_type": "code",
   "execution_count": 11,
   "metadata": {},
   "outputs": [
    {
     "name": "stdout",
     "output_type": "stream",
     "text": [
      "tensor([[ 9.3572e-02, -1.2454e-03,  2.1827e-04,  ..., -2.2351e-03,\n",
      "         -3.3247e-04, -8.7970e-04],\n",
      "        [-1.2410e-03,  3.2186e-02, -7.4506e-05,  ...,  2.1535e-03,\n",
      "         -4.9162e-04,  2.6702e-03],\n",
      "        [ 2.1386e-04, -8.5056e-05,  3.4332e-02,  ..., -7.5638e-05,\n",
      "          8.8847e-04,  6.0558e-05],\n",
      "        ...,\n",
      "        [-2.2318e-03,  2.1525e-03, -6.7413e-05,  ...,  4.6346e-02,\n",
      "         -1.7583e-05,  1.4544e-05],\n",
      "        [-3.3671e-04, -5.0080e-04,  8.8906e-04,  ..., -2.5153e-05,\n",
      "          5.2574e-02, -1.5491e-04],\n",
      "        [-8.7106e-04,  2.6742e-03,  7.4923e-05,  ...,  1.9789e-05,\n",
      "         -1.4120e-04,  2.4257e-02]], grad_fn=<SubBackward0>)\n"
     ]
    },
    {
     "ename": "RuntimeError",
     "evalue": "cholesky_cpu: U(87,87) is zero, singular U.",
     "output_type": "error",
     "traceback": [
      "\u001b[0;31m---------------------------------------------------------------------------\u001b[0m",
      "\u001b[0;31mRuntimeError\u001b[0m                              Traceback (most recent call last)",
      "\u001b[0;32m<ipython-input-11-dcc8369433f1>\u001b[0m in \u001b[0;36m<module>\u001b[0;34m\u001b[0m\n\u001b[1;32m      1\u001b[0m \u001b[0mx_te\u001b[0m\u001b[0;34m,\u001b[0m \u001b[0my_te\u001b[0m \u001b[0;34m=\u001b[0m \u001b[0mds_te\u001b[0m\u001b[0;34m[\u001b[0m\u001b[0;36m0\u001b[0m\u001b[0;34m]\u001b[0m\u001b[0;34m\u001b[0m\u001b[0;34m\u001b[0m\u001b[0m\n\u001b[0;32m----> 2\u001b[0;31m \u001b[0mdistribution\u001b[0m \u001b[0;34m=\u001b[0m \u001b[0mgraph_kernel\u001b[0m\u001b[0;34m.\u001b[0m\u001b[0minference\u001b[0m\u001b[0;34m(\u001b[0m\u001b[0mx_tr\u001b[0m\u001b[0;34m,\u001b[0m \u001b[0my_tr\u001b[0m\u001b[0;34m,\u001b[0m \u001b[0mx_tr\u001b[0m\u001b[0;34m)\u001b[0m\u001b[0;34m\u001b[0m\u001b[0;34m\u001b[0m\u001b[0m\n\u001b[0m",
      "\u001b[0;32m~/Documents/GitHub/pinot/pinot/inference/gp/kernel.py\u001b[0m in \u001b[0;36minference\u001b[0;34m(self, x_tr, y_tr, x_te, sigma)\u001b[0m\n\u001b[1;32m     98\u001b[0m         distribution = torch.distributions.multivariate_normal.MultivariateNormal(\n\u001b[1;32m     99\u001b[0m             \u001b[0mexpectation\u001b[0m\u001b[0;34m.\u001b[0m\u001b[0mflatten\u001b[0m\u001b[0;34m(\u001b[0m\u001b[0;34m)\u001b[0m\u001b[0;34m,\u001b[0m\u001b[0;34m\u001b[0m\u001b[0;34m\u001b[0m\u001b[0m\n\u001b[0;32m--> 100\u001b[0;31m             covariance)\n\u001b[0m\u001b[1;32m    101\u001b[0m \u001b[0;34m\u001b[0m\u001b[0m\n\u001b[1;32m    102\u001b[0m         \u001b[0;32mreturn\u001b[0m \u001b[0mdistribution\u001b[0m\u001b[0;34m\u001b[0m\u001b[0;34m\u001b[0m\u001b[0m\n",
      "\u001b[0;32m~/anaconda3/envs/pinot/lib/python3.7/site-packages/torch/distributions/multivariate_normal.py\u001b[0m in \u001b[0;36m__init__\u001b[0;34m(self, loc, covariance_matrix, precision_matrix, scale_tril, validate_args)\u001b[0m\n\u001b[1;32m    147\u001b[0m             \u001b[0mself\u001b[0m\u001b[0;34m.\u001b[0m\u001b[0m_unbroadcasted_scale_tril\u001b[0m \u001b[0;34m=\u001b[0m \u001b[0mscale_tril\u001b[0m\u001b[0;34m\u001b[0m\u001b[0;34m\u001b[0m\u001b[0m\n\u001b[1;32m    148\u001b[0m         \u001b[0;32melif\u001b[0m \u001b[0mcovariance_matrix\u001b[0m \u001b[0;32mis\u001b[0m \u001b[0;32mnot\u001b[0m \u001b[0;32mNone\u001b[0m\u001b[0;34m:\u001b[0m\u001b[0;34m\u001b[0m\u001b[0;34m\u001b[0m\u001b[0m\n\u001b[0;32m--> 149\u001b[0;31m             \u001b[0mself\u001b[0m\u001b[0;34m.\u001b[0m\u001b[0m_unbroadcasted_scale_tril\u001b[0m \u001b[0;34m=\u001b[0m \u001b[0mtorch\u001b[0m\u001b[0;34m.\u001b[0m\u001b[0mcholesky\u001b[0m\u001b[0;34m(\u001b[0m\u001b[0mcovariance_matrix\u001b[0m\u001b[0;34m)\u001b[0m\u001b[0;34m\u001b[0m\u001b[0;34m\u001b[0m\u001b[0m\n\u001b[0m\u001b[1;32m    150\u001b[0m         \u001b[0;32melse\u001b[0m\u001b[0;34m:\u001b[0m  \u001b[0;31m# precision_matrix is not None\u001b[0m\u001b[0;34m\u001b[0m\u001b[0;34m\u001b[0m\u001b[0m\n\u001b[1;32m    151\u001b[0m             \u001b[0mself\u001b[0m\u001b[0;34m.\u001b[0m\u001b[0m_unbroadcasted_scale_tril\u001b[0m \u001b[0;34m=\u001b[0m \u001b[0m_precision_to_scale_tril\u001b[0m\u001b[0;34m(\u001b[0m\u001b[0mprecision_matrix\u001b[0m\u001b[0;34m)\u001b[0m\u001b[0;34m\u001b[0m\u001b[0;34m\u001b[0m\u001b[0m\n",
      "\u001b[0;31mRuntimeError\u001b[0m: cholesky_cpu: U(87,87) is zero, singular U."
     ]
    }
   ],
   "source": [
    "x_te, y_te = ds_te[0]\n",
    "distribution = graph_kernel.inference(x_tr, y_tr, x_tr)"
   ]
  },
  {
   "cell_type": "code",
   "execution_count": null,
   "metadata": {},
   "outputs": [],
   "source": [
    "distribution.log_prob(y_te.to(dtype=torch.float32))"
   ]
  },
  {
   "cell_type": "code",
   "execution_count": null,
   "metadata": {},
   "outputs": [],
   "source": [
    "distribution.mean"
   ]
  },
  {
   "cell_type": "code",
   "execution_count": null,
   "metadata": {},
   "outputs": [],
   "source": [
    "import os\n",
    "os.environ['KMP_DUPLICATE_LIB_OK']='True'\n",
    "from matplotlib import pyplot as plt\n",
    "\n",
    "plt.scatter(y_tr.detach().numpy(), distribution.mean.detach().numpy())"
   ]
  },
  {
   "cell_type": "code",
   "execution_count": null,
   "metadata": {},
   "outputs": [],
   "source": []
  }
 ],
 "metadata": {
  "kernelspec": {
   "display_name": "Python 3",
   "language": "python",
   "name": "python3"
  },
  "language_info": {
   "codemirror_mode": {
    "name": "ipython",
    "version": 3
   },
   "file_extension": ".py",
   "mimetype": "text/x-python",
   "name": "python",
   "nbconvert_exporter": "python",
   "pygments_lexer": "ipython3",
   "version": "3.7.6"
  }
 },
 "nbformat": 4,
 "nbformat_minor": 4
}
