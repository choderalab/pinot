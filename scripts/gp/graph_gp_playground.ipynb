{
 "cells": [
  {
   "cell_type": "code",
   "execution_count": 1,
   "metadata": {},
   "outputs": [
    {
     "name": "stderr",
     "output_type": "stream",
     "text": [
      "Using backend: pytorch\n"
     ]
    }
   ],
   "source": [
    "import torch\n",
    "import numpy as np\n",
    "import pinot"
   ]
  },
  {
   "cell_type": "code",
   "execution_count": 2,
   "metadata": {},
   "outputs": [],
   "source": [
    "ds = pinot.data.esol()\n",
    "# ds = pinot.data.utils.batch(ds, 8)\n",
    "ds_tr, ds_te = pinot.data.utils.split(ds, [2, 1])\n",
    "ds_tr = pinot.data.utils.batch(ds_tr, len(ds_tr))\n",
    "ds_te = pinot.data.utils.batch(ds_te, len(ds_te))"
   ]
  },
  {
   "cell_type": "code",
   "execution_count": 3,
   "metadata": {},
   "outputs": [],
   "source": [
    "graph_kernel = pinot.inference.gp.deep_kernel.DeepKernel(\n",
    "    representation=pinot.representation.Sequential(\n",
    "        pinot.representation.dgl_legacy.gn(),\n",
    "        [32, 'tanh', 32, 'tanh', 32, 'tanh']),\n",
    "    base_kernel=pinot.inference.gp.kernels.RBF())"
   ]
  },
  {
   "cell_type": "code",
   "execution_count": 4,
   "metadata": {
    "scrolled": true
   },
   "outputs": [
    {
     "name": "stderr",
     "output_type": "stream",
     "text": [
      "/Users/wangy1/anaconda3/envs/pinot/lib/python3.7/site-packages/torch/nn/functional.py:1558: UserWarning: nn.functional.tanh is deprecated. Use torch.tanh instead.\n",
      "  warnings.warn(\"nn.functional.tanh is deprecated. Use torch.tanh instead.\")\n"
     ]
    },
    {
     "name": "stdout",
     "output_type": "stream",
     "text": [
      "tensor([[1.0000e+00, 4.2608e-03, 6.8452e-04,  ..., 1.1114e-02, 8.6109e-03,\n",
      "         1.7227e-05],\n",
      "        [4.2608e-03, 1.0000e+00, 9.9056e-02,  ..., 1.5708e-04, 8.0134e-05,\n",
      "         2.7323e-03],\n",
      "        [6.8452e-04, 9.9056e-02, 1.0000e+00,  ..., 1.8280e-05, 1.0482e-05,\n",
      "         2.2981e-02],\n",
      "        ...,\n",
      "        [1.1114e-02, 1.5708e-04, 1.8280e-05,  ..., 1.0000e+00, 2.4919e-01,\n",
      "         4.4090e-07],\n",
      "        [8.6109e-03, 8.0134e-05, 1.0482e-05,  ..., 2.4919e-01, 1.0000e+00,\n",
      "         2.4591e-07],\n",
      "        [1.7227e-05, 2.7323e-03, 2.2981e-02,  ..., 4.4090e-07, 2.4591e-07,\n",
      "         1.0000e+00]], grad_fn=<ExpBackward>)\n",
      "tensor([[ 5.2950e-01, -1.8380e-06,  1.2209e-08,  ...,  1.2646e-05,\n",
      "         -1.8897e-06,  2.4682e-09],\n",
      "        [-1.8383e-06,  7.6454e-01,  4.3368e-05,  ..., -3.8444e-08,\n",
      "          4.7521e-09,  7.7528e-07],\n",
      "        [ 1.2251e-08,  4.3357e-05,  7.0293e-01,  ..., -6.1490e-09,\n",
      "         -6.2191e-09,  3.4004e-05],\n",
      "        ...,\n",
      "        [ 1.2645e-05, -3.8434e-08, -6.1495e-09,  ...,  6.3231e-01,\n",
      "         -5.6551e-03,  7.7024e-11],\n",
      "        [-1.8894e-06,  4.7506e-09, -6.2194e-09,  ..., -5.6551e-03,\n",
      "          5.9950e-01,  1.6482e-11],\n",
      "        [ 2.4683e-09,  7.7505e-07,  3.4005e-05,  ...,  7.7038e-11,\n",
      "          1.6481e-11,  7.8280e-01]], grad_fn=<InverseBackward>)\n",
      "tensor(inf, grad_fn=<LogBackward>)\n",
      "tensor(inf, grad_fn=<SumBackward0>)\n"
     ]
    }
   ],
   "source": [
    "opt = torch.optim.Adam(graph_kernel.parameters(), 1e-3)\n",
    "x_tr, y_tr = ds_tr[0]\n",
    "for _ in range(1):\n",
    "    opt.zero_grad()\n",
    "    loss = graph_kernel.loss(x_tr, y_tr).sum()\n",
    "    loss.backward()\n",
    "    print(loss)\n",
    "    opt.step()"
   ]
  },
  {
   "cell_type": "code",
   "execution_count": 21,
   "metadata": {},
   "outputs": [
    {
     "ename": "RuntimeError",
     "evalue": "cholesky_cpu: U(1,1) is zero, singular U.",
     "output_type": "error",
     "traceback": [
      "\u001b[0;31m---------------------------------------------------------------------------\u001b[0m",
      "\u001b[0;31mRuntimeError\u001b[0m                              Traceback (most recent call last)",
      "\u001b[0;32m<ipython-input-21-9cccec6ddbf6>\u001b[0m in \u001b[0;36m<module>\u001b[0;34m\u001b[0m\n\u001b[1;32m      1\u001b[0m \u001b[0mx_te\u001b[0m\u001b[0;34m,\u001b[0m \u001b[0my_te\u001b[0m \u001b[0;34m=\u001b[0m \u001b[0mds_te\u001b[0m\u001b[0;34m[\u001b[0m\u001b[0;36m0\u001b[0m\u001b[0;34m]\u001b[0m\u001b[0;34m\u001b[0m\u001b[0;34m\u001b[0m\u001b[0m\n\u001b[0;32m----> 2\u001b[0;31m \u001b[0mdistribution\u001b[0m \u001b[0;34m=\u001b[0m \u001b[0mgraph_kernel\u001b[0m\u001b[0;34m.\u001b[0m\u001b[0minference\u001b[0m\u001b[0;34m(\u001b[0m\u001b[0mx_te\u001b[0m\u001b[0;34m,\u001b[0m \u001b[0my_te\u001b[0m\u001b[0;34m,\u001b[0m \u001b[0mx_te\u001b[0m\u001b[0;34m)\u001b[0m\u001b[0;34m\u001b[0m\u001b[0;34m\u001b[0m\u001b[0m\n\u001b[0m",
      "\u001b[0;32m~/Documents/GitHub/pinot/pinot/inference/gp/kernel.py\u001b[0m in \u001b[0;36minference\u001b[0;34m(self, x_tr, y_tr, x_te, sigma)\u001b[0m\n\u001b[1;32m     99\u001b[0m         distribution = torch.distributions.multivariate_normal.MultivariateNormal(\n\u001b[1;32m    100\u001b[0m             \u001b[0mexpectation\u001b[0m\u001b[0;34m.\u001b[0m\u001b[0mflatten\u001b[0m\u001b[0;34m(\u001b[0m\u001b[0;34m)\u001b[0m\u001b[0;34m,\u001b[0m\u001b[0;34m\u001b[0m\u001b[0;34m\u001b[0m\u001b[0m\n\u001b[0;32m--> 101\u001b[0;31m             covariance)\n\u001b[0m\u001b[1;32m    102\u001b[0m \u001b[0;34m\u001b[0m\u001b[0m\n\u001b[1;32m    103\u001b[0m         \u001b[0;32mreturn\u001b[0m \u001b[0mdistribution\u001b[0m\u001b[0;34m\u001b[0m\u001b[0;34m\u001b[0m\u001b[0m\n",
      "\u001b[0;32m~/anaconda3/envs/pinot/lib/python3.7/site-packages/torch/distributions/multivariate_normal.py\u001b[0m in \u001b[0;36m__init__\u001b[0;34m(self, loc, covariance_matrix, precision_matrix, scale_tril, validate_args)\u001b[0m\n\u001b[1;32m    147\u001b[0m             \u001b[0mself\u001b[0m\u001b[0;34m.\u001b[0m\u001b[0m_unbroadcasted_scale_tril\u001b[0m \u001b[0;34m=\u001b[0m \u001b[0mscale_tril\u001b[0m\u001b[0;34m\u001b[0m\u001b[0;34m\u001b[0m\u001b[0m\n\u001b[1;32m    148\u001b[0m         \u001b[0;32melif\u001b[0m \u001b[0mcovariance_matrix\u001b[0m \u001b[0;32mis\u001b[0m \u001b[0;32mnot\u001b[0m \u001b[0;32mNone\u001b[0m\u001b[0;34m:\u001b[0m\u001b[0;34m\u001b[0m\u001b[0;34m\u001b[0m\u001b[0m\n\u001b[0;32m--> 149\u001b[0;31m             \u001b[0mself\u001b[0m\u001b[0;34m.\u001b[0m\u001b[0m_unbroadcasted_scale_tril\u001b[0m \u001b[0;34m=\u001b[0m \u001b[0mtorch\u001b[0m\u001b[0;34m.\u001b[0m\u001b[0mcholesky\u001b[0m\u001b[0;34m(\u001b[0m\u001b[0mcovariance_matrix\u001b[0m\u001b[0;34m)\u001b[0m\u001b[0;34m\u001b[0m\u001b[0;34m\u001b[0m\u001b[0m\n\u001b[0m\u001b[1;32m    150\u001b[0m         \u001b[0;32melse\u001b[0m\u001b[0;34m:\u001b[0m  \u001b[0;31m# precision_matrix is not None\u001b[0m\u001b[0;34m\u001b[0m\u001b[0;34m\u001b[0m\u001b[0m\n\u001b[1;32m    151\u001b[0m             \u001b[0mself\u001b[0m\u001b[0;34m.\u001b[0m\u001b[0m_unbroadcasted_scale_tril\u001b[0m \u001b[0;34m=\u001b[0m \u001b[0m_precision_to_scale_tril\u001b[0m\u001b[0;34m(\u001b[0m\u001b[0mprecision_matrix\u001b[0m\u001b[0;34m)\u001b[0m\u001b[0;34m\u001b[0m\u001b[0;34m\u001b[0m\u001b[0m\n",
      "\u001b[0;31mRuntimeError\u001b[0m: cholesky_cpu: U(1,1) is zero, singular U."
     ]
    }
   ],
   "source": [
    "x_te, y_te = ds_te[0]\n",
    "distribution = graph_kernel.inference(x_te, y_te, x_te)"
   ]
  },
  {
   "cell_type": "code",
   "execution_count": null,
   "metadata": {},
   "outputs": [],
   "source": [
    "distribution.log_prob(y_te.to(dtype=torch.float32))"
   ]
  },
  {
   "cell_type": "code",
   "execution_count": null,
   "metadata": {},
   "outputs": [],
   "source": [
    "distribution.mean"
   ]
  },
  {
   "cell_type": "code",
   "execution_count": null,
   "metadata": {},
   "outputs": [],
   "source": [
    "import os\n",
    "os.environ['KMP_DUPLICATE_LIB_OK']='True'\n",
    "from matplotlib import pyplot as plt\n",
    "\n",
    "plt.scatter(y_tr.detach().numpy(), distribution.mean.detach().numpy())"
   ]
  },
  {
   "cell_type": "code",
   "execution_count": null,
   "metadata": {},
   "outputs": [],
   "source": []
  }
 ],
 "metadata": {
  "kernelspec": {
   "display_name": "Python 3",
   "language": "python",
   "name": "python3"
  },
  "language_info": {
   "codemirror_mode": {
    "name": "ipython",
    "version": 3
   },
   "file_extension": ".py",
   "mimetype": "text/x-python",
   "name": "python",
   "nbconvert_exporter": "python",
   "pygments_lexer": "ipython3",
   "version": "3.7.6"
  }
 },
 "nbformat": 4,
 "nbformat_minor": 4
}
