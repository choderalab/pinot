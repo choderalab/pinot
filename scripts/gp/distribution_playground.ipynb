{
 "cells": [
  {
   "cell_type": "code",
   "execution_count": 31,
   "metadata": {},
   "outputs": [],
   "source": [
    "import pinot\n",
    "import torch"
   ]
  },
  {
   "cell_type": "code",
   "execution_count": 20,
   "metadata": {},
   "outputs": [],
   "source": [
    "g, y = pinot.data.utils.batch(\n",
    "    pinot.data.esol()[:8],\n",
    "    8)[0]"
   ]
  },
  {
   "cell_type": "code",
   "execution_count": 22,
   "metadata": {},
   "outputs": [],
   "source": [
    "net_nn = pinot.Net(\n",
    "    representation=pinot.representation.Sequential(\n",
    "        layer=pinot.representation.dgl_legacy.gn(),\n",
    "        config=[32, 'tanh', 32, 'tanh', 32, 'tanh']\n",
    "    ),\n",
    ")"
   ]
  },
  {
   "cell_type": "code",
   "execution_count": 23,
   "metadata": {},
   "outputs": [
    {
     "data": {
      "text/plain": [
       "torch.Size([])"
      ]
     },
     "execution_count": 23,
     "metadata": {},
     "output_type": "execute_result"
    }
   ],
   "source": [
    "net_nn.condition(g).event_shape"
   ]
  },
  {
   "cell_type": "code",
   "execution_count": 25,
   "metadata": {},
   "outputs": [
    {
     "data": {
      "text/plain": [
       "tensor([[-4.0688],\n",
       "        [-3.1094],\n",
       "        [-2.3027],\n",
       "        [-2.8996],\n",
       "        [-3.6526],\n",
       "        [-5.5374],\n",
       "        [-2.4776],\n",
       "        [-5.8456]], grad_fn=<SubBackward0>)"
      ]
     },
     "execution_count": 25,
     "metadata": {},
     "output_type": "execute_result"
    }
   ],
   "source": [
    "net_nn.condition(g).log_prob(y)"
   ]
  },
  {
   "cell_type": "code",
   "execution_count": 26,
   "metadata": {},
   "outputs": [],
   "source": [
    "g, y = pinot.data.utils.batch(\n",
    "    pinot.data.esol()[:8],\n",
    "    8)[0]"
   ]
  },
  {
   "cell_type": "code",
   "execution_count": 27,
   "metadata": {},
   "outputs": [],
   "source": [
    "net_gp = pinot.Net(\n",
    "    representation=pinot.representation.Sequential(\n",
    "        layer=pinot.representation.dgl_legacy.gn(),\n",
    "        config=[32, 'tanh', 32, 'tanh', 32, 'tanh']\n",
    "    ),\n",
    "    output_regressor_class=pinot.regressors.ExactGaussianProcessRegressor,\n",
    ")"
   ]
  },
  {
   "cell_type": "code",
   "execution_count": 28,
   "metadata": {},
   "outputs": [
    {
     "data": {
      "text/plain": [
       "MultivariateNormal(loc: torch.Size([8]), covariance_matrix: torch.Size([8, 8]))"
      ]
     },
     "execution_count": 28,
     "metadata": {},
     "output_type": "execute_result"
    }
   ],
   "source": [
    "net_gp.loss(g, y)\n",
    "net_gp.condition(g)"
   ]
  },
  {
   "cell_type": "code",
   "execution_count": 35,
   "metadata": {},
   "outputs": [
    {
     "data": {
      "text/plain": [
       "MultivariateNormal(loc: torch.Size([8]), covariance_matrix: torch.Size([8, 8]))"
      ]
     },
     "execution_count": 35,
     "metadata": {},
     "output_type": "execute_result"
    }
   ],
   "source": [
    "net_gp.condition(g)\n"
   ]
  },
  {
   "cell_type": "code",
   "execution_count": null,
   "metadata": {},
   "outputs": [],
   "source": []
  }
 ],
 "metadata": {
  "kernelspec": {
   "display_name": "Python 3",
   "language": "python",
   "name": "python3"
  },
  "language_info": {
   "codemirror_mode": {
    "name": "ipython",
    "version": 3
   },
   "file_extension": ".py",
   "mimetype": "text/x-python",
   "name": "python",
   "nbconvert_exporter": "python",
   "pygments_lexer": "ipython3",
   "version": "3.7.6"
  }
 },
 "nbformat": 4,
 "nbformat_minor": 4
}
