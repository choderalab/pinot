{
 "cells": [
  {
   "cell_type": "markdown",
   "metadata": {},
   "source": [
    "# Multitask Clean"
   ]
  },
  {
   "cell_type": "code",
   "execution_count": 1,
   "metadata": {},
   "outputs": [
    {
     "name": "stderr",
     "output_type": "stream",
     "text": [
      "Using backend: pytorch\n"
     ]
    }
   ],
   "source": [
    "%load_ext autoreload\n",
    "%autoreload 2\n",
    "\n",
    "import pinot\n",
    "from pinot.net import Net\n",
    "from pinot import data\n",
    "import torch\n",
    "import dgl"
   ]
  },
  {
   "cell_type": "code",
   "execution_count": 3,
   "metadata": {},
   "outputs": [],
   "source": [
    "def get_data(col=None):\n",
    "\n",
    "    def generate_mask(ds):\n",
    "        mask = [(~torch.isnan(d[1]), d[0], d[1])\n",
    "                for d in ds]\n",
    "        return mask\n",
    "\n",
    "    def filter_cols(ds, num_cols=6, col=None):\n",
    "        if col is None:\n",
    "            ds = [(d[0], d[1][:,:num_cols]) for d in ds]\n",
    "        else:\n",
    "            ds = [(d[0], d[1][:,col].view(-1, 1)) for d in ds]\n",
    "        return ds\n",
    "\n",
    "    ds = data.moonshot_meta()\n",
    "\n",
    "    # move to GPU\n",
    "    cuda_ds = []\n",
    "    for d in ds:\n",
    "        d = tuple([i.to(torch.device('cuda:0')) for i in d])\n",
    "        cuda_ds.append(d)\n",
    "\n",
    "    ds_tr, ds_te = data.utils.split(cuda_ds, [4, 1])\n",
    "    \n",
    "    ds_tr = data.utils.batch(ds_tr, len(ds_tr))\n",
    "    ds_te = data.utils.batch(ds_te, len(ds_te))\n",
    "    \n",
    "    ds_tr = filter_cols(ds_tr, num_cols=9, col=col)\n",
    "    ds_te = filter_cols(ds_te, num_cols=9, col=col)\n",
    "    \n",
    "    num_data = torch.cat([m[0] for m in generate_mask(ds_tr)]).sum()\n",
    "    return ds_tr, ds_te, num_data"
   ]
  },
  {
   "cell_type": "markdown",
   "metadata": {},
   "source": [
    "# Multitask Train and Test"
   ]
  },
  {
   "cell_type": "code",
   "execution_count": 5,
   "metadata": {},
   "outputs": [],
   "source": [
    "from pinot.multitask import MultitaskNet\n",
    "from pinot.regressors import (VariationalGaussianProcessRegressor,\n",
    "                              ExactGaussianProcessRegressor)\n",
    "\n",
    "representation = pinot.representation.Sequential(\n",
    "    pinot.representation.dgl_legacy.gn(model_name='GraphConv'),\n",
    "    [32, 'tanh', 32, 'tanh', 32, 'tanh']\n",
    ")\n",
    "\n",
    "mtn = MultitaskNet(representation,\n",
    "                   output_regressor=ExactGaussianProcessRegressor,\n",
    "#                    VariationalGaussianProcessRegressor,\n",
    "#                    num_data=num_data\n",
    "                  ).to(torch.device('cuda:0'))\n",
    "\n",
    "optimizer = torch.optim.Adam(mtn.parameters(), lr=1e-4, weight_decay=0.0)"
   ]
  },
  {
   "cell_type": "markdown",
   "metadata": {},
   "source": [
    "## Run experiment."
   ]
  },
  {
   "cell_type": "code",
   "execution_count": 6,
   "metadata": {},
   "outputs": [],
   "source": [
    "from pinot.app.experiment import TrainAndTest\n",
    "from pinot.multitask.metrics import r2, pearson, rmse, avg_nll\n",
    "from pinot.multitask.experiment import MultitaskTrain\n",
    "\n",
    "ds_tr, ds_te, num_data = get_data()\n",
    "\n",
    "tt = TrainAndTest(net=mtn,\n",
    "                  data_te=ds_te,\n",
    "                  data_tr=ds_tr,\n",
    "                  n_epochs=1,\n",
    "                  optimizer=optimizer,\n",
    "                  metrics=[r2, pearson, rmse, avg_nll],\n",
    "                  train_cls=MultitaskTrain)\n",
    "\n",
    "# TODO: stratify results by task\n",
    "results = tt.run()"
   ]
  }
 ],
 "metadata": {
  "kernelspec": {
   "display_name": "Python 3",
   "language": "python",
   "name": "python3"
  },
  "language_info": {
   "codemirror_mode": {
    "name": "ipython",
    "version": 3
   },
   "file_extension": ".py",
   "mimetype": "text/x-python",
   "name": "python",
   "nbconvert_exporter": "python",
   "pygments_lexer": "ipython3",
   "version": "3.8.3"
  }
 },
 "nbformat": 4,
 "nbformat_minor": 4
}
