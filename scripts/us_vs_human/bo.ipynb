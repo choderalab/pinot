{
 "cells": [
  {
   "cell_type": "code",
   "execution_count": 119,
   "metadata": {},
   "outputs": [
    {
     "name": "stdout",
     "output_type": "stream",
     "text": [
      "The autoreload extension is already loaded. To reload it, use:\n",
      "  %reload_ext autoreload\n"
     ]
    }
   ],
   "source": [
    "%load_ext autoreload\n",
    "%autoreload 2\n",
    "import seaborn as sns\n",
    "import pinot\n",
    "import torch\n",
    "from matplotlib import pyplot as plt\n",
    "import numpy as np\n",
    "import scipy"
   ]
  },
  {
   "cell_type": "code",
   "execution_count": 120,
   "metadata": {},
   "outputs": [],
   "source": [
    "ds = pinot.data.esol()\n",
    "\n",
    "ds = pinot.data.utils.batch(ds, len(ds))\n",
    "\n",
    "g_all, y_all = ds[0]\n",
    "\n"
   ]
  },
  {
   "cell_type": "code",
   "execution_count": 144,
   "metadata": {},
   "outputs": [
    {
     "data": {
      "text/plain": [
       "tensor(1.5800)"
      ]
     },
     "execution_count": 144,
     "metadata": {},
     "output_type": "execute_result"
    }
   ],
   "source": [
    "y_all.max()"
   ]
  },
  {
   "cell_type": "code",
   "execution_count": 140,
   "metadata": {},
   "outputs": [
    {
     "name": "stdout",
     "output_type": "stream",
     "text": [
      "0.05912459\n",
      "0.31377012\n",
      "0.2793941\n",
      "0.30384213\n",
      "---\n",
      "0.595913\n",
      "0.058745027\n",
      "0.28064406\n",
      "0.2935332\n",
      "---\n",
      "0.05912459\n",
      "0.20875454\n",
      "0.2314204\n",
      "0.2650736\n",
      "---\n",
      "0.595913\n",
      "0.03831762\n",
      "0.236866\n",
      "0.2586658\n",
      "---\n",
      "0.05912459\n",
      "0.25811052\n",
      "0.20643628\n",
      "0.20909697\n",
      "---\n",
      "0.595913\n",
      "0.05874282\n",
      "0.32018828\n",
      "0.26863062\n",
      "---\n",
      "0.05912459\n",
      "0.28509218\n",
      "0.23477387\n",
      "0.21221143\n",
      "---\n",
      "0.21591675\n",
      "0.056756377\n",
      "0.3014692\n",
      "0.28458375\n",
      "---\n",
      "0.05796194\n",
      "0.20488054\n",
      "0.22583103\n",
      "0.29065537\n",
      "---\n",
      "0.6583463\n",
      "0.058467746\n",
      "0.27395117\n",
      "0.18114811\n",
      "---\n"
     ]
    }
   ],
   "source": [
    "xss = []\n",
    "\n",
    "for _ in range(10):\n",
    "    \n",
    "    net = pinot.Net(\n",
    "        representation=pinot.representation.Sequential(\n",
    "            layer=pinot.representation.dgl_legacy.gn(),\n",
    "            config=[32, 'tanh', 32, 'tanh', 32, 'tanh']),\n",
    "            output_regressor=pinot.regressors.ExactGaussianProcessRegressor)\n",
    "\n",
    "    optimizer = torch.optim.Adam(net.parameters(), 1e-3)\n",
    "\n",
    "    acquisition = pinot.active.acquisition.probability_of_improvement\n",
    "\n",
    "    bo = pinot.active.experiment.BayesOptExperiment(\n",
    "        net=net,\n",
    "        acquisition=acquisition,\n",
    "        q=96,\n",
    "        optimizer=optimizer,\n",
    "        data=ds[0],\n",
    "        slice_fn=pinot.active.experiment._slice_fn_tuple, # pinot.active.\n",
    "        collate_fn=pinot.active.experiment._collate_fn_graph, # pinot.active.\n",
    "        n_epochs=10,\n",
    "        )\n",
    "    \n",
    "    xs = []\n",
    "    \n",
    "    num_rounds = 4\n",
    "\n",
    "    idx = 0\n",
    "    bo.blind_pick(seed=None)\n",
    "    bo.update_data()\n",
    "\n",
    "    while idx < num_rounds:\n",
    "        bo.train()\n",
    "        bo.acquire()\n",
    "        bo.update_data()\n",
    "\n",
    "\n",
    "        x = pinot.active.acquisition.probability_of_improvement(\n",
    "            pinot.metrics._independent(bo.net.condition(g_all)),\n",
    "            y_best=bo.y_best).max().detach().numpy()\n",
    "\n",
    "        print(x)\n",
    "        \n",
    "        xs.append(x)\n",
    "        \n",
    "\n",
    "        idx += 1\n",
    "        \n",
    "    print('---')\n",
    "        \n",
    "    xss.append(xs)\n",
    "\n"
   ]
  },
  {
   "cell_type": "code",
   "execution_count": 141,
   "metadata": {},
   "outputs": [],
   "source": [
    "xss = np.array(xss)"
   ]
  },
  {
   "cell_type": "code",
   "execution_count": 142,
   "metadata": {},
   "outputs": [
    {
     "data": {
      "text/plain": [
       "array([[0.05912459, 0.31377012, 0.2793941 , 0.30384213],\n",
       "       [0.595913  , 0.05874503, 0.28064406, 0.2935332 ],\n",
       "       [0.05912459, 0.20875454, 0.2314204 , 0.2650736 ],\n",
       "       [0.595913  , 0.03831762, 0.236866  , 0.2586658 ],\n",
       "       [0.05912459, 0.25811052, 0.20643628, 0.20909697],\n",
       "       [0.595913  , 0.05874282, 0.32018828, 0.26863062],\n",
       "       [0.05912459, 0.28509218, 0.23477387, 0.21221143],\n",
       "       [0.21591675, 0.05675638, 0.3014692 , 0.28458375],\n",
       "       [0.05796194, 0.20488054, 0.22583103, 0.29065537],\n",
       "       [0.6583463 , 0.05846775, 0.27395117, 0.18114811]], dtype=float32)"
      ]
     },
     "execution_count": 142,
     "metadata": {},
     "output_type": "execute_result"
    }
   ],
   "source": [
    "xss"
   ]
  },
  {
   "cell_type": "code",
   "execution_count": 143,
   "metadata": {},
   "outputs": [
    {
     "data": {
      "image/png": "[encoded data removed]",
      "text/plain": [
       "<Figure size 288x216 with 1 Axes>"
      ]
     },
     "metadata": {
      "needs_background": "light"
     },
     "output_type": "display_data"
    }
   ],
   "source": [
    "plt.rc('font', family='serif', size=10)\n",
    "plt.rc('xtick', labelsize=8)\n",
    "plt.rc('ytick', labelsize=8)\n",
    "\n",
    "fig, ax = plt.subplots(figsize=(4, 3))\n",
    "\n",
    "cmap=plt.get_cmap('tab10')\n",
    "\n",
    "\n",
    "ax.violinplot(\n",
    "    xss)\n",
    "\n",
    "ax.plot(\n",
    "    [1, 2, 3, 4],\n",
    "    xss.mean(axis=0),\n",
    "    label='Bayesian Optimization',\n",
    "    color=cmap(0),\n",
    "    marker='o')\n",
    "\n",
    "ax.plot(\n",
    "    [1, 2, 3, 4],\n",
    "    [\n",
    "0.38230854,\n",
    "0.37273157,\n",
    "0.4078949,\n",
    "0.4052515\n",
    "\n",
    "    ],\n",
    "\n",
    "marker='o',\n",
    "    \n",
    "label='Human Experts'\n",
    "    \n",
    ")\n",
    "\n",
    "ax.legend()\n",
    "\n",
    "ax.set_xticks([1, 2, 3, 4])\n",
    "ax.set_yticks([0.0, 0.5])\n",
    "\n",
    "ax.set_xlabel('Rounds')\n",
    "ax.set_title(r'Max Probability of Improvement')\n",
    "# ax.set_ylabel('Inhibition @ 20 uM')\n",
    "\n",
    "# ax.set_ylabel('Probability of Improvement')\n",
    "\n",
    "plt.tight_layout()\n",
    "# plt.gcf().subplots_adjust(bottom=0.15)\n",
    "fig.savefig('us_vs_human_pi.png', dpi=500)"
   ]
  },
  {
   "cell_type": "code",
   "execution_count": null,
   "metadata": {},
   "outputs": [
    {
     "name": "stdout",
     "output_type": "stream",
     "text": [
      "0.5398078\n",
      "0.5397898\n",
      "0.054371357\n",
      "0.08718324\n",
      "0.089930534\n",
      "0.086435914\n",
      "0.07673466\n",
      "0.08019972\n",
      "0.09059727\n",
      "0.109475136\n",
      "0.1373359\n",
      "0.1709665\n",
      "0.20265365\n",
      "0.22976363\n",
      "0.25074303\n",
      "0.26309305\n",
      "0.2719593\n",
      "0.27134752\n"
     ]
    }
   ],
   "source": [
    "plt.rc('font', family='serif', size=10)\n",
    "plt.rc('xtick', labelsize=8)\n",
    "plt.rc('ytick', labelsize=8)\n",
    "\n",
    "fig, ax = plt.subplots(figsize=(4, 3))\n",
    "\n",
    "cmap=plt.get_cmap('tab10')\n",
    "\n",
    "\n",
    "\n",
    "for q_idx, q in enumerate([12, 24, 48, 96]):\n",
    "    xss = []\n",
    "    \n",
    "    num_rounds = int(96 * 4 / q)\n",
    "\n",
    "    for _ in range(5):\n",
    "\n",
    "        net = pinot.Net(\n",
    "            representation=pinot.representation.Sequential(\n",
    "                layer=pinot.representation.dgl_legacy.gn(),\n",
    "                config=[32, 'tanh', 32, 'tanh', 32, 'tanh']),\n",
    "                output_regressor=pinot.regressors.ExactGaussianProcessRegressor)\n",
    "\n",
    "        optimizer = torch.optim.Adam(net.parameters(), 1e-3)\n",
    "\n",
    "        acquisition = pinot.active.acquisition.probability_of_improvement\n",
    "\n",
    "        bo = pinot.active.experiment.BayesOptExperiment(\n",
    "            net=net,\n",
    "            acquisition=acquisition,\n",
    "            q=q,\n",
    "            optimizer=optimizer,\n",
    "            data=ds[0],\n",
    "            slice_fn=pinot.active.experiment._slice_fn_tuple, # pinot.active.\n",
    "            collate_fn=pinot.active.experiment._collate_fn_graph, # pinot.active.\n",
    "            n_epochs=1,\n",
    "            )\n",
    "\n",
    "        xs = []\n",
    "\n",
    "        idx = 0\n",
    "        bo.blind_pick(seed=None)\n",
    "        bo.update_data()\n",
    "\n",
    "        while idx < num_rounds:\n",
    "            bo.train()\n",
    "            bo.acquire()\n",
    "            bo.update_data()\n",
    "\n",
    "\n",
    "            x = pinot.active.acquisition.probability_of_improvement(\n",
    "                pinot.metrics._independent(bo.net.condition(g_all)),\n",
    "                y_best=bo.y_best).max().detach().numpy()\n",
    "\n",
    "            print(x)\n",
    "\n",
    "            xs.append(x)\n",
    "\n",
    "\n",
    "            idx += 1\n",
    "\n",
    "        print('---')\n",
    "\n",
    "        xss.append(xs)\n",
    "\n",
    "\n",
    "    xss = np.array(xss)\n",
    "        \n",
    "    ax.violinplot(\n",
    "        dataset=xss,\n",
    "        positions=[q * (idx_+1) for idx_ in range(num_rounds)],\n",
    "        widths=10)\n",
    "\n",
    "    ax.plot(\n",
    "        [q * (idx_+1) for idx_ in range(num_rounds)],\n",
    "        xss.mean(axis=0),\n",
    "        label='q=%s' % q,\n",
    "        color=cmap(q_idx),\n",
    "        marker='o')\n",
    "    \n",
    "    ax.legend()\n",
    "    \n",
    "\n",
    "plt.xlabel('Number of Candidates Acquired')\n",
    "plt.ylabel('Max Probability of Improvement')\n",
    "\n",
    "plt.savefig('batch_size.png', dpi=500)\n"
   ]
  },
  {
   "cell_type": "code",
   "execution_count": 159,
   "metadata": {},
   "outputs": [
    {
     "data": {
      "text/plain": [
       "<matplotlib.legend.Legend at 0x13868fa50>"
      ]
     },
     "execution_count": 159,
     "metadata": {},
     "output_type": "execute_result"
    },
    {
     "data": {
      "image/png": "[encoded data removed]",
      "text/plain": [
       "<Figure size 288x216 with 1 Axes>"
      ]
     },
     "metadata": {
      "needs_background": "light"
     },
     "output_type": "display_data"
    }
   ],
   "source": [
    "\n",
    "fig, ax = plt.subplots(figsize=(4, 3))\n",
    "xss = np.array(xss)\n",
    "\n",
    "ax.violinplot(\n",
    "    dataset=xss,\n",
    "    positions=[q * (idx_+1) for idx_ in range(num_rounds)],\n",
    "    widths=10)\n",
    "\n",
    "ax.plot(\n",
    "    [q * (idx_+1) for idx_ in range(num_rounds)],\n",
    "    xss.mean(axis=0),\n",
    "    label='q=%s' % q,\n",
    "    color=cmap(0),\n",
    "    marker='o')\n",
    "\n",
    "ax.legend()"
   ]
  },
  {
   "cell_type": "code",
   "execution_count": 153,
   "metadata": {},
   "outputs": [
    {
     "data": {
      "text/plain": [
       "array([[0.2148804 , 0.13029253],\n",
       "       [0.20567   , 0.17669177]], dtype=float32)"
      ]
     },
     "execution_count": 153,
     "metadata": {},
     "output_type": "execute_result"
    }
   ],
   "source": [
    "xss"
   ]
  },
  {
   "cell_type": "code",
   "execution_count": null,
   "metadata": {},
   "outputs": [],
   "source": []
  }
 ],
 "metadata": {
  "kernelspec": {
   "display_name": "Python 3",
   "language": "python",
   "name": "python3"
  },
  "language_info": {
   "codemirror_mode": {
    "name": "ipython",
    "version": 3
   },
   "file_extension": ".py",
   "mimetype": "text/x-python",
   "name": "python",
   "nbconvert_exporter": "python",
   "pygments_lexer": "ipython3",
   "version": "3.7.6"
  }
 },
 "nbformat": 4,
 "nbformat_minor": 4
}
