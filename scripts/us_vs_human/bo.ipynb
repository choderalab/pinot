{
 "cells": [
  {
   "cell_type": "code",
   "execution_count": 62,
   "metadata": {},
   "outputs": [
    {
     "name": "stdout",
     "output_type": "stream",
     "text": [
      "The autoreload extension is already loaded. To reload it, use:\n",
      "  %reload_ext autoreload\n"
     ]
    }
   ],
   "source": [
    "%load_ext autoreload\n",
    "%autoreload 2\n",
    "import seaborn as sns\n",
    "import pinot\n",
    "import torch\n",
    "from matplotlib import pyplot as plt\n",
    "import numpy as np\n",
    "import scipy"
   ]
  },
  {
   "cell_type": "code",
   "execution_count": 63,
   "metadata": {},
   "outputs": [],
   "source": [
    "ds = pinot.data.esol()\n",
    "\n",
    "ds = pinot.data.utils.batch(ds, len(ds))\n",
    "\n",
    "g_all, y_all = ds[0]\n",
    "\n",
    "\n",
    "net = pinot.Net(\n",
    "    representation=pinot.representation.Sequential(\n",
    "        layer=pinot.representation.dgl_legacy.gn(),\n",
    "        config=[32, 'tanh', 32, 'tanh', 32, 'tanh']),\n",
    "        output_regressor=pinot.regressors.ExactGaussianProcessRegressor)\n",
    "\n",
    "optimizer = torch.optim.Adam(net.parameters(), 1e-3)\n",
    "\n",
    "acquisition = pinot.active.acquisition.probability_of_improvement\n",
    "\n",
    "bo = pinot.active.experiment.BayesOptExperiment(\n",
    "    net=net,\n",
    "    acquisition=acquisition,\n",
    "    optimizer=optimizer,\n",
    "    strategy=\n",
    "    data=ds[0],\n",
    "    slice_fn=pinot.active.experiment._slice_fn_tuple, # pinot.active.\n",
    "    collate_fn=pinot.active.experiment._collate_fn_graph, # pinot.active.\n",
    "    n_epochs=10,\n",
    "    )"
   ]
  },
  {
   "cell_type": "code",
   "execution_count": 64,
   "metadata": {},
   "outputs": [],
   "source": [
    "xs = []\n",
    "num_rounds = 40\n",
    "\n",
    "\n",
    "idx = 0\n",
    "bo.blind_pick(seed=None)\n",
    "bo.update_data()\n",
    "\n",
    "while idx < num_rounds:\n",
    "    bo.train()\n",
    "    bo.acquire()\n",
    "    bo.update_data()\n",
    "        \n",
    "    \n",
    "    x = pinot.active.acquisition.probability_of_improvement(\n",
    "        pinot.metrics._independent(bo.net.condition(g_all)),\n",
    "        y_best=bo.y_best).max().detach().numpy()\n",
    "    \n",
    "    xs.append(x)\n",
    "    \n",
    "    idx += 1\n",
    "\n"
   ]
  },
  {
   "cell_type": "code",
   "execution_count": 65,
   "metadata": {},
   "outputs": [
    {
     "data": {
      "text/plain": [
       "[<matplotlib.lines.Line2D at 0x1431ca5d0>]"
      ]
     },
     "execution_count": 65,
     "metadata": {},
     "output_type": "execute_result"
    },
    {
     "data": {
      "image/png": "[encoded data removed]",
      "text/plain": [
       "<Figure size 432x288 with 1 Axes>"
      ]
     },
     "metadata": {
      "needs_background": "light"
     },
     "output_type": "display_data"
    }
   ],
   "source": [
    "plt.plot(xs)"
   ]
  },
  {
   "cell_type": "code",
   "execution_count": null,
   "metadata": {},
   "outputs": [],
   "source": []
  }
 ],
 "metadata": {
  "kernelspec": {
   "display_name": "Python 3",
   "language": "python",
   "name": "python3"
  },
  "language_info": {
   "codemirror_mode": {
    "name": "ipython",
    "version": 3
   },
   "file_extension": ".py",
   "mimetype": "text/x-python",
   "name": "python",
   "nbconvert_exporter": "python",
   "pygments_lexer": "ipython3",
   "version": "3.7.6"
  }
 },
 "nbformat": 4,
 "nbformat_minor": 4
}
