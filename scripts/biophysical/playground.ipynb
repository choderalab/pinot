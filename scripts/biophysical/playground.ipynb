{
 "cells": [
  {
   "cell_type": "markdown",
   "metadata": {},
   "source": [
    "# Playground for Biophysical Models"
   ]
  },
  {
   "cell_type": "code",
   "execution_count": 125,
   "metadata": {},
   "outputs": [
    {
     "name": "stdout",
     "output_type": "stream",
     "text": [
      "The autoreload extension is already loaded. To reload it, use:\n",
      "  %reload_ext autoreload\n"
     ]
    }
   ],
   "source": [
    "%load_ext autoreload\n",
    "%autoreload 2\n",
    "\n",
    "import pinot\n",
    "import torch\n",
    "import pandas as pd\n",
    "import seaborn as sns\n",
    "import matplotlib.pyplot as plt"
   ]
  },
  {
   "cell_type": "markdown",
   "metadata": {},
   "source": [
    "## Load data"
   ]
  },
  {
   "cell_type": "code",
   "execution_count": 78,
   "metadata": {},
   "outputs": [],
   "source": [
    "ds = pinot.data.moonshot_multi()\n",
    "\n",
    "# send data to cuda\n",
    "ds = ds.to('cuda')"
   ]
  },
  {
   "cell_type": "markdown",
   "metadata": {},
   "source": [
    "This dataset has 6 values, three for each assay.\n",
    "\n",
    "They are as follows:\n",
    "\n",
    "```\n",
    "    KEY\n",
    "        r is rapidfire\n",
    "        f is fluorescence\n",
    "\n",
    "    DESCRIPTIONS\n",
    "    \n",
    "        'r_inhibition_at_20_uM',\n",
    "        'r_inhibition_at_50_uM',\n",
    "        'r_avg_IC50',\n",
    "        \n",
    "        'f_inhibition_at_20_uM',\n",
    "        'f_inhibition_at_50_uM',\n",
    "        'f_avg_IC50'\n",
    "```"
   ]
  },
  {
   "cell_type": "code",
   "execution_count": 79,
   "metadata": {},
   "outputs": [
    {
     "data": {
      "text/plain": [
       "tensor(0.0361, device='cuda:0')"
      ]
     },
     "execution_count": 79,
     "metadata": {},
     "output_type": "execute_result"
    }
   ],
   "source": [
    "g, y = ds.ds[9]\n",
    "y[3] # `f_inhibition_at_20_uM`"
   ]
  },
  {
   "cell_type": "markdown",
   "metadata": {},
   "source": [
    "## Set up net and optimizer"
   ]
  },
  {
   "cell_type": "code",
   "execution_count": 80,
   "metadata": {},
   "outputs": [],
   "source": [
    "def get_net_and_optimizer(architecture, regressor_type='vgp',\n",
    "                          n_inducing_points=50, optimizer='Adam',\n",
    "                          lr=1e-4, weight_decay=0.01, device='cuda'):\n",
    "    \"\"\"\n",
    "    \"\"\"\n",
    "    representation = pinot.representation.sequential.SequentialMix(\n",
    "        architecture,\n",
    "    )\n",
    "\n",
    "    if regressor_type == \"gp\":\n",
    "        output_regressor = pinot.regressors.ExactGaussianProcessRegressor\n",
    "    elif regressor_type == \"nn\":\n",
    "        output_regressor = pinot.regressors.NeuralNetworkRegressor \n",
    "    else:\n",
    "        output_regressor = pinot.regressors.VariationalGaussianProcessRegressor\n",
    "\n",
    "    # First train a fully supervised Net to use as Baseline\n",
    "    net = pinot.Net(\n",
    "        representation=representation,\n",
    "        output_regressor_class=output_regressor,\n",
    "        n_inducing_points=n_inducing_points\n",
    "    )\n",
    "    optimizer = pinot.app.utils.optimizer_translation(\n",
    "        opt_string=optimizer, lr=lr, weight_decay=weight_decay,\n",
    "    )\n",
    "    net.to(device)\n",
    "    \n",
    "    return net, optimizer(net)"
   ]
  },
  {
   "cell_type": "markdown",
   "metadata": {},
   "source": [
    "Design architecture, instantiate net, optimizer, and set batch size accordingly."
   ]
  },
  {
   "cell_type": "code",
   "execution_count": 81,
   "metadata": {},
   "outputs": [],
   "source": [
    "architecture = [\n",
    "    32, 'GraphSAGE' 'activation', 'tanh',\n",
    "    32, 'GraphSAGE' 'activation', 'tanh',\n",
    "    32, 'GraphSAGE' 'activation', 'tanh',\n",
    "]\n",
    "\n",
    "net, optimizer = get_net_and_optimizer(\n",
    "    architecture, regressor_type='vgp',\n",
    "    n_inducing_points=50, optimizer='Adam',\n",
    "    lr=1e-4, weight_decay=0.01, device='cuda'\n",
    ")\n",
    "\n",
    "if net.has_exact_gp:\n",
    "    batch_size = len(data)\n",
    "else:\n",
    "    batch_size = 32"
   ]
  },
  {
   "cell_type": "markdown",
   "metadata": {},
   "source": [
    "## Train and Test"
   ]
  },
  {
   "cell_type": "markdown",
   "metadata": {},
   "source": [
    "### Training helper functions"
   ]
  },
  {
   "cell_type": "code",
   "execution_count": 82,
   "metadata": {},
   "outputs": [],
   "source": [
    "def train_once(net, data, optimizer, annealing):\n",
    "    \"\"\"\n",
    "    Train the model for one batch.\n",
    "    \"\"\"\n",
    "    total_loss = 0.\n",
    "    for d in data:\n",
    "\n",
    "        batch_ratio = len(d[1]) / len(data)\n",
    "        \n",
    "        def l():\n",
    "            \"\"\" \"\"\"\n",
    "            optimizer.zero_grad()\n",
    "            loss = torch.sum(\n",
    "                net.loss(\n",
    "                    *d,\n",
    "                    kl_loss_scaling=batch_ratio,\n",
    "                    annealing=annealing\n",
    "                )\n",
    "            )\n",
    "            loss.backward()\n",
    "\n",
    "            return loss\n",
    "\n",
    "        optimizer.step(l)\n",
    "        \n",
    "def compute_conditional(net, data, batch_size):\n",
    "    \"\"\"\n",
    "    Get conditional distribution for net on dataset for testing.\n",
    "    \"\"\"\n",
    "    # compute conditional distribution in batched fashion\n",
    "    locs, scales = [], []\n",
    "    for idx, d in enumerate(data.batch(batch_size,\n",
    "                                       partial_batch=True\n",
    "                                      )):\n",
    "\n",
    "        g_batch, _ = d\n",
    "        distribution_batch = net.condition(g_batch)\n",
    "        loc_batch = distribution_batch.mean.flatten().cpu()\n",
    "        scale_batch = distribution_batch.variance.pow(0.5).flatten().cpu()\n",
    "        locs.append(loc_batch)\n",
    "        scales.append(scale_batch)\n",
    "\n",
    "    distribution = torch.distributions.normal.Normal(\n",
    "        loc=torch.cat(locs),\n",
    "        scale=torch.cat(scales)\n",
    "    )\n",
    "    return distribution"
   ]
  },
  {
   "cell_type": "markdown",
   "metadata": {},
   "source": [
    "### Train and Test"
   ]
  },
  {
   "cell_type": "markdown",
   "metadata": {},
   "source": [
    "Get toy data that contains only `f_inhibition_at_20_uM` for `y`."
   ]
  },
  {
   "cell_type": "code",
   "execution_count": 83,
   "metadata": {},
   "outputs": [],
   "source": [
    "from copy import deepcopy\n",
    "ds_f = deepcopy(ds)\n",
    "gs, ys = zip(*ds)\n",
    "y_stacked = torch.stack(ys)\n",
    "\n",
    "# filter for only at 20uM\n",
    "has_f_at_20uM = ~torch.isnan(y_stacked[:,3])\n",
    "gs_f = [g for idx, g in enumerate(gs) if has_f_at_20uM[idx]]\n",
    "ys_f = [y[3].unsqueeze(-1)\n",
    "        for idx, y in enumerate(ys)\n",
    "        if has_f_at_20uM[idx]]\n",
    "ds_f.ds = list(zip(gs_f, ys_f))\n",
    "data = ds_f\n",
    "\n",
    "# split train/test\n",
    "seed = 0\n",
    "train_data, test_data = data.split([4, 1], seed=seed)\n",
    "\n",
    "# mini-batch if we're using variational GP\n",
    "train_data = train_data.batch(batch_size)"
   ]
  },
  {
   "cell_type": "markdown",
   "metadata": {},
   "source": [
    "Set up training loop."
   ]
  },
  {
   "cell_type": "code",
   "execution_count": 118,
   "metadata": {},
   "outputs": [
    {
     "name": "stderr",
     "output_type": "stream",
     "text": [
      "  0%|                                                                                            | 0/5 [00:00<?, ?it/s]c:\\users\\micha\\dev\\choderalab\\pinot\\pinot\\regressors\\gaussian_process_regressor.py:323: UserWarning: torch.range is deprecated in favor of torch.arange and will be removed in 0.5. Note that arange generates values in [start; end), not [start; end].\n",
      "  torch.range(0, self.y_tr_sigma_diag.shape[0] - 1)[:, None],\n",
      "c:\\users\\micha\\dev\\choderalab\\pinot\\pinot\\regressors\\gaussian_process_regressor.py:324: UserWarning: torch.range is deprecated in favor of torch.arange and will be removed in 0.5. Note that arange generates values in [start; end), not [start; end].\n",
      "  torch.range(0, self.y_tr_sigma_diag.shape[0] - 1)[None, :],\n",
      "100%|████████████████████████████████████████████████████████████████████████████████████| 5/5 [00:12<00:00,  2.55s/it]\n"
     ]
    }
   ],
   "source": [
    "from tqdm import tqdm\n",
    "\n",
    "n_epochs = 5\n",
    "annealing = 1.0 # weighting on variational loss\n",
    "metrics = [pinot.rmse, pinot.r2, pinot.avg_nll]\n",
    "\n",
    "results = []\n",
    "for epoch_idx in tqdm(range(n_epochs)):\n",
    "    \n",
    "    # train\n",
    "    net.train()\n",
    "    train_once(net, train_data, optimizer, annealing)\n",
    "    \n",
    "    # test\n",
    "    net.eval()\n",
    "    \n",
    "    for phase in ['train', 'test']:\n",
    "        \n",
    "        eval_data = train_data if phase == 'train' else test_data\n",
    "        _, y = zip(*eval_data)\n",
    "        y = (torch\n",
    "             .cat(y)\n",
    "             .detach()\n",
    "             .cpu()\n",
    "             .reshape(-1, 1))\n",
    "        \n",
    "        # compute posterior predictive distribution\n",
    "        distribution = compute_conditional(net, eval_data, batch_size)\n",
    "        \n",
    "        # loop through the metrics\n",
    "        for metric in metrics:\n",
    "            score = metric(\n",
    "                net,\n",
    "                distribution,\n",
    "                y,\n",
    "                batch_size=batch_size\n",
    "            ).detach().cpu().numpy()\n",
    "\n",
    "            # prepare longform dataframe\n",
    "            results.append(\n",
    "                {\n",
    "                    'epoch': epoch_idx,\n",
    "                    'metric': metric.__name__,\n",
    "                    'score': float(score),\n",
    "                    'phase': phase,\n",
    "                }\n",
    "            )\n",
    "\n",
    "# make dataframe from records\n",
    "results = pd.DataFrame(results)"
   ]
  },
  {
   "cell_type": "markdown",
   "metadata": {},
   "source": [
    "## Plotting results"
   ]
  },
  {
   "cell_type": "code",
   "execution_count": 129,
   "metadata": {},
   "outputs": [
    {
     "data": {
      "image/png": "[encoded data removed]",
      "text/plain": [
       "<Figure size 432x288 with 1 Axes>"
      ]
     },
     "metadata": {
      "needs_background": "light"
     },
     "output_type": "display_data"
    },
    {
     "data": {
      "image/png": "[encoded data removed]",
      "text/plain": [
       "<Figure size 432x288 with 1 Axes>"
      ]
     },
     "metadata": {
      "needs_background": "light"
     },
     "output_type": "display_data"
    },
    {
     "data": {
      "image/png": "[encoded data removed]",
      "text/plain": [
       "<Figure size 432x288 with 1 Axes>"
      ]
     },
     "metadata": {
      "needs_background": "light"
     },
     "output_type": "display_data"
    }
   ],
   "source": [
    "for metric in ['avg_nll', 'rmse', 'r2']:\n",
    "    fig, ax = plt.subplots()\n",
    "    sns.lineplot(\n",
    "        data=results.query(f'metric == \"{metric}\"'),\n",
    "        x='epoch',\n",
    "        y='score',\n",
    "        hue='phase',\n",
    "        ax=ax\n",
    "    )\n",
    "    ax.set_title(metric)"
   ]
  }
 ],
 "metadata": {
  "kernelspec": {
   "display_name": "Python 3",
   "language": "python",
   "name": "python3"
  },
  "language_info": {
   "codemirror_mode": {
    "name": "ipython",
    "version": 3
   },
   "file_extension": ".py",
   "mimetype": "text/x-python",
   "name": "python",
   "nbconvert_exporter": "python",
   "pygments_lexer": "ipython3",
   "version": "3.8.3"
  }
 },
 "nbformat": 4,
 "nbformat_minor": 4
}
