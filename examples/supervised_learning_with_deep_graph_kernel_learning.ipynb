{
  "nbformat": 4,
  "nbformat_minor": 0,
  "metadata": {
    "colab": {
      "name": "supervised_learning_with_deep_graph_kernel_learning.ipynb",
      "provenance": [],
      "toc_visible": true,
      "authorship_tag": "ABX9TyP25M8NKcitgTLiHa7W36bD",
      "include_colab_link": true
    },
    "kernelspec": {
      "name": "python3",
      "display_name": "Python 3"
    }
  },
  "cells": [
    {
      "cell_type": "markdown",
      "metadata": {
        "id": "view-in-github",
        "colab_type": "text"
      },
      "source": [
        "<a href=\"https://colab.research.google.com/github/choderalab/pinot/blob/examples/examples/supervised_learning_with_deep_graph_kernel_learning.ipynb\" target=\"_parent\"><img src=\"https://colab.research.google.com/assets/colab-badge.svg\" alt=\"Open In Colab\"/></a>"
      ]
    },
    {
      "cell_type": "markdown",
      "metadata": {
        "id": "iyRn_nldq_5W",
        "colab_type": "text"
      },
      "source": [
        "Supervised Learning with Deep Graph Kernel Learning\n",
        "===================================================\n",
        "\n",
        "Yuanqing Wang (wangyq@wangyq.net)\n",
        "\n",
        "In this example we show the simplest example of `pinot`. "
      ]
    },
    {
      "cell_type": "markdown",
      "metadata": {
        "id": "RjDGRPj0wMFp",
        "colab_type": "text"
      },
      "source": [
        "# Download and install"
      ]
    },
    {
      "cell_type": "code",
      "metadata": {
        "id": "-dRe9MK9qtcq",
        "colab_type": "code",
        "colab": {
          "base_uri": "https://localhost:8080/",
          "height": 136
        },
        "outputId": "9e598c43-bcd3-4220-efc9-2de59f43f6a1"
      },
      "source": [
        "! git clone https://github.com/choderalab/pinot.git --depth=1"
      ],
      "execution_count": 1,
      "outputs": [
        {
          "output_type": "stream",
          "text": [
            "Cloning into 'pinot'...\n",
            "remote: Enumerating objects: 255, done.\u001b[K\n",
            "remote: Counting objects: 100% (255/255), done.\u001b[K\n",
            "remote: Compressing objects: 100% (225/225), done.\u001b[K\n",
            "remote: Total 255 (delta 21), reused 169 (delta 9), pack-reused 0\u001b[K\n",
            "Receiving objects: 100% (255/255), 26.72 MiB | 17.21 MiB/s, done.\n",
            "Resolving deltas: 100% (21/21), done.\n"
          ],
          "name": "stdout"
        }
      ]
    },
    {
      "cell_type": "code",
      "metadata": {
        "id": "IMIi9yvNwTOz",
        "colab_type": "code",
        "colab": {
          "base_uri": "https://localhost:8080/",
          "height": 34
        },
        "outputId": "eb552d5b-432d-45b6-a029-55a8249b6b37"
      },
      "source": [
        "! cd /content/pinot && pip install -q -r requirements.txt && pip install -q ."
      ],
      "execution_count": 3,
      "outputs": [
        {
          "output_type": "stream",
          "text": [
            "  Building wheel for pinot (setup.py) ... \u001b[?25l\u001b[?25hdone\n"
          ],
          "name": "stdout"
        }
      ]
    },
    {
      "cell_type": "code",
      "metadata": {
        "id": "65yNgIggwvPF",
        "colab_type": "code",
        "colab": {
          "base_uri": "https://localhost:8080/",
          "height": 1000
        },
        "outputId": "96bbf91c-d333-4cbf-c6e5-edfba5772a6b"
      },
      "source": [
        "! wget -q -c https://repo.continuum.io/miniconda/Miniconda3-latest-Linux-x86_64.sh\n",
        "! chmod +x Miniconda3-latest-Linux-x86_64.sh\n",
        "! time bash ./Miniconda3-latest-Linux-x86_64.sh -q -b -f -p /usr/local\n",
        "! time conda install -q -y -c conda-forge rdkit\n"
      ],
      "execution_count": 9,
      "outputs": [
        {
          "output_type": "stream",
          "text": [
            "PREFIX=/usr/local\n",
            "Unpacking payload ...\n",
            "Collecting package metadata (current_repodata.json): - \b\b\\ \b\bdone\n",
            "Solving environment: / \b\b- \b\b\\ \b\b| \b\b/ \b\b- \b\b\\ \b\b| \b\b/ \b\bdone\n",
            "\n",
            "## Package Plan ##\n",
            "\n",
            "  environment location: /usr/local\n",
            "\n",
            "  added / updated specs:\n",
            "    - _libgcc_mutex==0.1=main\n",
            "    - ca-certificates==2020.1.1=0\n",
            "    - certifi==2020.4.5.1=py37_0\n",
            "    - cffi==1.14.0=py37he30daa8_1\n",
            "    - chardet==3.0.4=py37_1003\n",
            "    - conda-package-handling==1.6.1=py37h7b6447c_0\n",
            "    - conda==4.8.3=py37_0\n",
            "    - cryptography==2.9.2=py37h1ba5d50_0\n",
            "    - idna==2.9=py_1\n",
            "    - ld_impl_linux-64==2.33.1=h53a641e_7\n",
            "    - libedit==3.1.20181209=hc058e9b_0\n",
            "    - libffi==3.3=he6710b0_1\n",
            "    - libgcc-ng==9.1.0=hdf63c60_0\n",
            "    - libstdcxx-ng==9.1.0=hdf63c60_0\n",
            "    - ncurses==6.2=he6710b0_1\n",
            "    - openssl==1.1.1g=h7b6447c_0\n",
            "    - pip==20.0.2=py37_3\n",
            "    - pycosat==0.6.3=py37h7b6447c_0\n",
            "    - pycparser==2.20=py_0\n",
            "    - pyopenssl==19.1.0=py37_0\n",
            "    - pysocks==1.7.1=py37_0\n",
            "    - python==3.7.7=hcff3b4d_5\n",
            "    - readline==8.0=h7b6447c_0\n",
            "    - requests==2.23.0=py37_0\n",
            "    - ruamel_yaml==0.15.87=py37h7b6447c_0\n",
            "    - setuptools==46.4.0=py37_0\n",
            "    - six==1.14.0=py37_0\n",
            "    - sqlite==3.31.1=h62c20be_1\n",
            "    - tk==8.6.8=hbc83047_0\n",
            "    - tqdm==4.46.0=py_0\n",
            "    - urllib3==1.25.8=py37_0\n",
            "    - wheel==0.34.2=py37_0\n",
            "    - xz==5.2.5=h7b6447c_0\n",
            "    - yaml==0.1.7=had09818_2\n",
            "    - zlib==1.2.11=h7b6447c_3\n",
            "\n",
            "\n",
            "The following packages will be SUPERSEDED by a higher-priority channel:\n",
            "\n",
            "  ca-certificates    conda-forge::ca-certificates-2020.6.2~ --> pkgs/main::ca-certificates-2020.1.1-0\n",
            "  certifi            conda-forge::certifi-2020.6.20-py37hc~ --> pkgs/main::certifi-2020.4.5.1-py37_0\n",
            "  conda              conda-forge::conda-4.8.3-py37hc8dfbb8~ --> pkgs/main::conda-4.8.3-py37_0\n",
            "  openssl            conda-forge::openssl-1.1.1g-h516909a_0 --> pkgs/main::openssl-1.1.1g-h7b6447c_0\n",
            "\n",
            "\n",
            "Preparing transaction: \\ \b\bdone\n",
            "Executing transaction: / \b\b- \b\bdone\n",
            "installation finished.\n",
            "WARNING:\n",
            "    You currently have a PYTHONPATH environment variable set. This may cause\n",
            "    unexpected behavior when running the Python interpreter in Miniconda3.\n",
            "    For best results, please verify that your PYTHONPATH only points to\n",
            "    directories of packages that are compatible with the Python interpreter\n",
            "    in Miniconda3: /usr/local\n",
            "\n",
            "real\t0m33.639s\n",
            "user\t0m37.927s\n",
            "sys\t0m6.055s\n",
            "Collecting package metadata (current_repodata.json): ...working... done\n",
            "Solving environment: ...working... done\n",
            "\n",
            "## Package Plan ##\n",
            "\n",
            "  environment location: /usr/local\n",
            "\n",
            "  added / updated specs:\n",
            "    - rdkit\n",
            "\n",
            "\n",
            "The following packages will be UPDATED:\n",
            "\n",
            "  ca-certificates     pkgs/main::ca-certificates-2020.1.1-0 --> conda-forge::ca-certificates-2020.6.20-hecda079_0\n",
            "  certifi              pkgs/main::certifi-2020.4.5.1-py37_0 --> conda-forge::certifi-2020.6.20-py37hc8dfbb8_0\n",
            "  conda                       pkgs/main::conda-4.8.3-py37_0 --> conda-forge::conda-4.8.3-py37hc8dfbb8_1\n",
            "\n",
            "The following packages will be SUPERSEDED by a higher-priority channel:\n",
            "\n",
            "  openssl              pkgs/main::openssl-1.1.1g-h7b6447c_0 --> conda-forge::openssl-1.1.1g-h516909a_0\n",
            "\n",
            "\n",
            "Preparing transaction: ...working... done\n",
            "Verifying transaction: ...working... done\n",
            "Executing transaction: ...working... done\n",
            "\n",
            "real\t0m7.610s\n",
            "user\t0m6.832s\n",
            "sys\t0m0.969s\n"
          ],
          "name": "stdout"
        }
      ]
    },
    {
      "cell_type": "code",
      "metadata": {
        "id": "35ipVDyzyNAK",
        "colab_type": "code",
        "colab": {}
      },
      "source": [
        "import sys\n",
        "sys.path.append('/usr/local/lib/python3.7/site-packages/')"
      ],
      "execution_count": 10,
      "outputs": []
    },
    {
      "cell_type": "code",
      "metadata": {
        "id": "naScjQvyxxkL",
        "colab_type": "code",
        "colab": {}
      },
      "source": [
        "import pinot"
      ],
      "execution_count": 11,
      "outputs": []
    },
    {
      "cell_type": "markdown",
      "metadata": {
        "id": "15qvgHy9DFfL",
        "colab_type": "text"
      },
      "source": [
        "# Overview\n",
        "\n",
        "In `pinot`, the forward pass that takes a _molecular graph_ and outputs a _predictive distribution_ is separated into two parts:\n",
        "- representation\n",
        "- regression\n",
        "\n",
        "In **representation**, $\\mathcal{G} \\rightarrow h$,  we use graph nets to conduct message-passing steps on the nodes (atoms) and edges (bonds) of the molecular graph, and form a latent representation for each node, and by summing them up, for each graph. This is handled in `pinot.representation`.\n",
        "\n",
        "In **regression**, $h \\rightarrow y$, we transform the latent encoding into a predictive distribution. Such distribution could be either parametrized by neural networks `pinot.regressors.NeuralNetworkRegressor`, or infered by Gaussian process regression (`pinot.regressors.ExactGaussianProcessRegressor`). Alternatively, you can construct your own `Regressor` by [subclassing](https://github.com/choderalab/pinot/blob/master/pinot/regressors/base_regressor.py), as long as they take latent embedding $h \\in \\mathbb{R}^{(N \\times D)\u0010}$ where $N$ is the batch size and $D$ is the hidden dimension, and outputs a distribution conditioned on new input graphs."
      ]
    },
    {
      "cell_type": "markdown",
      "metadata": {
        "id": "C1_j8L12w8q1",
        "colab_type": "text"
      },
      "source": [
        "# Get dataset"
      ]
    },
    {
      "cell_type": "markdown",
      "metadata": {
        "id": "sW9MArcGxCXq",
        "colab_type": "text"
      },
      "source": [
        "Here we use the so-called 'MNIST of molecular machine learning'---[ESOL dataset.](https://pubs.acs.org/doi/10.1021/ci034243x) Note that dataset is already shuffled by default."
      ]
    },
    {
      "cell_type": "code",
      "metadata": {
        "id": "a6A5DRy4w5UH",
        "colab_type": "code",
        "colab": {}
      },
      "source": [
        "ds = pinot.data.esol()[:40] # we only grab a few to make a point "
      ],
      "execution_count": 23,
      "outputs": []
    },
    {
      "cell_type": "markdown",
      "metadata": {
        "id": "7GQXzlx7ySN9",
        "colab_type": "text"
      },
      "source": [
        "We batch the dataset into size of 8 and split the dataset into training and test (80:20)."
      ]
    },
    {
      "cell_type": "code",
      "metadata": {
        "id": "b7nhje1axve3",
        "colab_type": "code",
        "colab": {}
      },
      "source": [
        "ds = pinot.data.utils.batch(ds, 8)\n",
        "ds_tr, ds_te = pinot.data.utils.split(ds, [4, 1])"
      ],
      "execution_count": 24,
      "outputs": []
    },
    {
      "cell_type": "markdown",
      "metadata": {
        "id": "S-ZIWm2ky4IJ",
        "colab_type": "text"
      },
      "source": [
        "# Define representation architecture"
      ]
    },
    {
      "cell_type": "markdown",
      "metadata": {
        "id": "2YObBGyFy7K3",
        "colab_type": "text"
      },
      "source": [
        "Let's use the most classic [Graph Convolutional Networks](https://arxiv.org/abs/1609.02907) as graph net layer, and construct a representation model with three layers, each 32 units, and connected by `tanh`."
      ]
    },
    {
      "cell_type": "code",
      "metadata": {
        "id": "EyCGH035y3iQ",
        "colab_type": "code",
        "colab": {}
      },
      "source": [
        "layer = pinot.representation.dgl_legacy.gn(model_name='GraphConv')"
      ],
      "execution_count": 14,
      "outputs": []
    },
    {
      "cell_type": "code",
      "metadata": {
        "id": "ekx4QBnry2nn",
        "colab_type": "code",
        "colab": {}
      },
      "source": [
        "representation = pinot.representation.Sequential(\n",
        "    layer=layer,\n",
        "    config=[32, 'tanh', 32, 'tanh', 32, 'tanh']\n",
        ")"
      ],
      "execution_count": 15,
      "outputs": []
    },
    {
      "cell_type": "markdown",
      "metadata": {
        "id": "TOwQno8_FgMF",
        "colab_type": "text"
      },
      "source": [
        "# Define Exact GP as output regressor"
      ]
    },
    {
      "cell_type": "code",
      "metadata": {
        "id": "m5LIBgW1FjNl",
        "colab_type": "code",
        "colab": {}
      },
      "source": [
        "output_regressor = pinot.regressors.ExactGaussianProcessRegressor"
      ],
      "execution_count": 16,
      "outputs": []
    },
    {
      "cell_type": "markdown",
      "metadata": {
        "id": "Xk50b3JH0O71",
        "colab_type": "text"
      },
      "source": [
        "# Define a complete network"
      ]
    },
    {
      "cell_type": "code",
      "metadata": {
        "id": "B6n8FqTS0MS4",
        "colab_type": "code",
        "colab": {}
      },
      "source": [
        "net = pinot.Net(\n",
        "    representation=representation,\n",
        "    output_regressor=output_regressor\n",
        ")"
      ],
      "execution_count": 17,
      "outputs": []
    },
    {
      "cell_type": "markdown",
      "metadata": {
        "id": "HRr7ZLY5F8QR",
        "colab_type": "text"
      },
      "source": [
        "Note that now this object contains both stage of the forward pass and is differentiate end-to-end. As a result, the `.parameters()` call would return all of the associated parameters. We can thus construct our optimizer as such:"
      ]
    },
    {
      "cell_type": "code",
      "metadata": {
        "id": "u2L3pOn0GehY",
        "colab_type": "code",
        "colab": {}
      },
      "source": [
        "import torch\n",
        "optimizer = torch.optim.Adam(\n",
        "    net.parameters(),\n",
        "    1e-3\n",
        ")"
      ],
      "execution_count": 25,
      "outputs": []
    },
    {
      "cell_type": "markdown",
      "metadata": {
        "id": "0AiT2VXHGnjU",
        "colab_type": "text"
      },
      "source": [
        "You also have the option to switch `torch`-generic optimizers to variational inference methods, namely `pinot.BBB` or Langevin integrators `pinot.AdLaLa`. We will cover these topics in later tutorials."
      ]
    },
    {
      "cell_type": "markdown",
      "metadata": {
        "id": "G-ZW6U5YFsTA",
        "colab_type": "text"
      },
      "source": [
        "# Define training and testing experiment."
      ]
    },
    {
      "cell_type": "markdown",
      "metadata": {
        "id": "moTn1_HCFwEz",
        "colab_type": "text"
      },
      "source": [
        "We define a `TrainAndTest` experiment here to train and evaluate altogether."
      ]
    },
    {
      "cell_type": "code",
      "metadata": {
        "id": "va7bZaelFri7",
        "colab_type": "code",
        "colab": {}
      },
      "source": [
        "experiment = pinot.TrainAndTest(\n",
        "    net=net,\n",
        "    data_tr=ds_tr,\n",
        "    data_te=ds_te,\n",
        "    optimizer=optimizer,\n",
        "    n_epochs=10,\n",
        "    metrics=[pinot.r2, pinot.rmse, pinot.avg_nll], # reporting metrics\n",
        ")"
      ],
      "execution_count": 26,
      "outputs": []
    },
    {
      "cell_type": "code",
      "metadata": {
        "id": "grR_PxI-HEPS",
        "colab_type": "code",
        "colab": {}
      },
      "source": [
        "# run it!\n",
        "results = experiment.run()"
      ],
      "execution_count": 28,
      "outputs": []
    },
    {
      "cell_type": "markdown",
      "metadata": {
        "id": "hLuo-1F0HiNw",
        "colab_type": "text"
      },
      "source": [
        "# Analyze the results"
      ]
    },
    {
      "cell_type": "code",
      "metadata": {
        "id": "MGn15oV_HHF2",
        "colab_type": "code",
        "colab": {
          "base_uri": "https://localhost:8080/",
          "height": 85
        },
        "outputId": "671d21f8-82a6-4569-ae16-7e4460bf16ee"
      },
      "source": [
        "print(pinot.app.report.markdown(results))"
      ],
      "execution_count": 30,
      "outputs": [
        {
          "output_type": "stream",
          "text": [
            "|          |     r2 |   rmse |   avg_nll |\n",
            "|:---------|-------:|-------:|----------:|\n",
            "| test     | 0.8101 | 0.9825 |    1.3403 |\n",
            "| training | 0.6612 | 1.0874 |    1.1846 |\n"
          ],
          "name": "stdout"
        }
      ]
    },
    {
      "cell_type": "code",
      "metadata": {
        "id": "QAVMNaIVHmQa",
        "colab_type": "code",
        "colab": {
          "base_uri": "https://localhost:8080/",
          "height": 244
        },
        "outputId": "88e049fa-dcc5-49c1-9fc9-ece99d576555"
      },
      "source": [
        "from matplotlib import pyplot as plt\n",
        "\n",
        "plt.rc('font', family='serif', size=12)\n",
        "plt.rc('xtick', labelsize=10)\n",
        "plt.rc('ytick', labelsize=10)\n",
        "plt.figure(figsize=(4, 3))\n",
        "\n",
        "plt.plot(pinot.app.report.curve(results)[('rmse', 'test')], label='Test')\n",
        "plt.plot(pinot.app.report.curve(results)[('rmse', 'training')], label='Training')\n",
        "\n",
        "plt.xlabel('epochs')\n",
        "plt.ylabel('RMSE (mol/L)')\n",
        "\n"
      ],
      "execution_count": 35,
      "outputs": [
        {
          "output_type": "execute_result",
          "data": {
            "text/plain": [
              "Text(0, 0.5, 'RMSE (mol/L)')"
            ]
          },
          "metadata": {
            "tags": []
          },
          "execution_count": 35
        },
        {
          "output_type": "display_data",
          "data": {
            "image/png": "[encoded data removed]",
            "text/plain": [
              "<Figure size 288x216 with 1 Axes>"
            ]
          },
          "metadata": {
            "tags": [],
            "needs_background": "light"
          }
        }
      ]
    },
    {
      "cell_type": "code",
      "metadata": {
        "id": "T0cDPC7nIIV2",
        "colab_type": "code",
        "colab": {}
      },
      "source": [
        ""
      ],
      "execution_count": null,
      "outputs": []
    }
  ]
}